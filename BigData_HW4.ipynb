{
  "nbformat": 4,
  "nbformat_minor": 0,
  "metadata": {
    "colab": {
      "name": "BigData-HW4.ipynb",
      "provenance": [],
      "collapsed_sections": []
    },
    "kernelspec": {
      "name": "python3",
      "display_name": "Python 3"
    },
    "language_info": {
      "name": "python"
    }
  },
  "cells": [
    {
      "cell_type": "markdown",
      "source": [
        "![image.png](data:image/png;base64,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)\n",
        "\n",
        "\n",
        "\n",
        "\n",
        "\n",
        "\n",
        "\n",
        "به نام خداوند بخشنده و مهربان \n",
        "\n",
        "# **درس: تحلیل سیسیتم داده‌های حجیم**\n",
        "---\n",
        "\n",
        "## استاد: دکتر محمدعلی نعمت‌بخش\n",
        "دستیاران: فاطمه ابراهیمی، امیر سرتیپی، پریسا لطیفی\n",
        "\n",
        "\n",
        "\n"
      ],
      "metadata": {
        "id": "OPasnM5i7OVi"
      }
    },
    {
      "cell_type": "markdown",
      "source": [
        "# تکلیف چهارم"
      ],
      "metadata": {
        "id": "VDiiW0Q3RdMQ"
      }
    },
    {
      "cell_type": "markdown",
      "source": [
        "# Load spark platform on google colab."
      ],
      "metadata": {
        "id": "VFBMXypnea79"
      }
    },
    {
      "cell_type": "code",
      "execution_count": 1,
      "metadata": {
        "colab": {
          "base_uri": "https://localhost:8080/"
        },
        "id": "J7VgPgI8dMrK",
        "outputId": "1ec31ccf-7166-4858-eb2f-19338cf79bf8"
      },
      "outputs": [
        {
          "output_type": "stream",
          "name": "stdout",
          "text": [
            "\u001b[K     |████████████████████████████████| 281.4 MB 33 kB/s \n",
            "\u001b[K     |████████████████████████████████| 198 kB 62.3 MB/s \n",
            "\u001b[?25h  Building wheel for pyspark (setup.py) ... \u001b[?25l\u001b[?25hdone\n"
          ]
        }
      ],
      "source": [
        "!pip install pyspark --quiet\n",
        "!pip install -U -q PyDrive --quiet \n",
        "!apt install openjdk-8-jdk-headless &> /dev/null\n"
      ]
    },
    {
      "cell_type": "code",
      "source": [
        "import os\n",
        "os.environ[\"JAVA_HOME\"] = \"/usr/lib/jvm/java-8-openjdk-amd64\""
      ],
      "metadata": {
        "id": "wtlSB7imd19u"
      },
      "execution_count": 2,
      "outputs": []
    },
    {
      "cell_type": "code",
      "source": [
        "import numpy as np\n",
        "from pyspark.sql import SparkSession\n",
        "from pyspark.sql.functions import *\n",
        "from pyspark.sql.types import *\n",
        "from pyspark.sql import Row\n",
        "spark = SparkSession \\\n",
        "    .builder \\\n",
        "    .appName(\"BigData-HW4\") \\\n",
        "    .getOrCreate()"
      ],
      "metadata": {
        "id": "zd8YMOcDfKB4"
      },
      "execution_count": 3,
      "outputs": []
    },
    {
      "cell_type": "code",
      "source": [
        "CustomerInfo = spark.read.option(\"header\",True) \\\n",
        "              .csv('/content/sample_data/data.csv')\n",
        "CustomerInfo.show()"
      ],
      "metadata": {
        "id": "N8bADqIBgM3b",
        "colab": {
          "base_uri": "https://localhost:8080/"
        },
        "outputId": "6160dc5d-3c66-401b-a108-d129cad49b88"
      },
      "execution_count": 9,
      "outputs": [
        {
          "output_type": "stream",
          "name": "stdout",
          "text": [
            "+----------+------+-------------+-------+----------+------+------------+----------------+---------------+-------------------+-------------------+-------------------+-------------------+-------------------+-------------------+--------------+----------------+--------------------+--------------+------------+-----+\n",
            "|customerID|gender|SeniorCitizen|Partner|Dependents|tenure|PhoneService|   MultipleLines|InternetService|     OnlineSecurity|       OnlineBackup|   DeviceProtection|        TechSupport|        StreamingTV|    StreamingMovies|      Contract|PaperlessBilling|       PaymentMethod|MonthlyCharges|TotalCharges|Label|\n",
            "+----------+------+-------------+-------+----------+------+------------+----------------+---------------+-------------------+-------------------+-------------------+-------------------+-------------------+-------------------+--------------+----------------+--------------------+--------------+------------+-----+\n",
            "|5331-RGMTT|  Male|          1.0|    Yes|        No|  54.0|         Yes|             Yes|    Fiber optic|                 No|                 No|                Yes|                 No|                Yes|                Yes|Month-to-month|             Yes|Credit card (auto...|         99.05|      5295.7|   No|\n",
            "|5161-XEUVX|  Male|          0.0|    Yes|        No|  37.0|         Yes|             Yes|    Fiber optic|                 No|                 No|                Yes|                Yes|                Yes|                 No|      Two year|              No|        Mailed check|          94.3|     3460.95|   No|\n",
            "|0336-PIKEI|  Male|          1.0|    Yes|        No|  72.0|         Yes|              No|            DSL|                Yes|                Yes|                Yes|                Yes|                Yes|                 No|      Two year|              No|Bank transfer (au...|          74.4|     5360.75|   No|\n",
            "|3345-PBBFH|  Male|          0.0|    Yes|        No|   8.0|         Yes|              No|            DSL|                 No|                Yes|                 No|                 No|                 No|                 No|Month-to-month|             Yes|Bank transfer (au...|         49.55|      393.45|   No|\n",
            "|5067-XJQFU|  Male|          1.0|    Yes|       Yes|  66.0|         Yes|             Yes|    Fiber optic|                 No|                Yes|                Yes|                Yes|                Yes|                Yes|      One year|             Yes|    Electronic check|        108.45|     7076.35|   No|\n",
            "|4056-QHXHZ|Female|          0.0|    Yes|       Yes|  72.0|         Yes|             Yes|    Fiber optic|                Yes|                 No|                Yes|                Yes|                Yes|                Yes|      Two year|              No|        Mailed check|        107.45|      7576.7|   No|\n",
            "|8028-PNXHQ|  Male|          0.0|    Yes|       Yes|  62.0|         Yes|             Yes|             No|No internet service|No internet service|No internet service|No internet service|No internet service|No internet service|      Two year|             Yes|Bank transfer (au...|         24.25|      1424.6|   No|\n",
            "|8181-YHCMF|Female|          0.0|    Yes|       Yes|  68.0|          No|No phone service|            DSL|                 No|                Yes|                Yes|                Yes|                Yes|                Yes|      Two year|              No|Credit card (auto...|          60.3|        4109|   No|\n",
            "|6734-PSBAW|  Male|          0.0|    Yes|        No|  72.0|         Yes|             Yes|             No|No internet service|No internet service|No internet service|No internet service|No internet service|No internet service|      Two year|             Yes|Bank transfer (au...|         23.55|     1723.95|   No|\n",
            "|3655-SNQYZ|Female|          0.0|    Yes|       Yes|  69.0|         Yes|             Yes|    Fiber optic|                Yes|                Yes|                Yes|                Yes|                Yes|                Yes|      Two year|              No|Credit card (auto...|        113.25|     7895.15|   No|\n",
            "|9508-ILZDG|Female|          1.0|     No|        No|  34.0|         Yes|             Yes|    Fiber optic|                 No|                Yes|                 No|                Yes|                Yes|                 No|Month-to-month|             Yes|    Electronic check|         96.35|     3190.25|   No|\n",
            "|3620-EHIMZ|Female|          0.0|    Yes|       Yes|  52.0|         Yes|              No|             No|No internet service|No internet service|No internet service|No internet service|No internet service|No internet service|      Two year|              No|        Mailed check|         19.35|      1031.7|   No|\n",
            "|4178-EGMON|  Male|          0.0|    Yes|        No|  70.0|         Yes|             Yes|    Fiber optic|                Yes|                Yes|                 No|                Yes|                 No|                 No|      Two year|             Yes|Credit card (auto...|          88.0|     5986.45|   No|\n",
            "|0036-IHMOT|Female|          0.0|    Yes|       Yes|  55.0|         Yes|              No|    Fiber optic|                 No|                Yes|                Yes|                Yes|                Yes|                Yes|      One year|             Yes|Bank transfer (au...|         103.7|     5656.75|   No|\n",
            "|0281-CNTZX|  Male|          0.0|    Yes|        No|  63.0|         Yes|              No|             No|No internet service|No internet service|No internet service|No internet service|No internet service|No internet service|      Two year|             Yes|Bank transfer (au...|         19.95|      1234.8|   No|\n",
            "|0530-IJVDB|  Male|          0.0|     No|       Yes|  70.0|         Yes|             Yes|    Fiber optic|                Yes|                Yes|                Yes|                Yes|                Yes|                Yes|      Two year|             Yes|    Electronic check|         114.6|      7882.5|   No|\n",
            "|7251-XFOIL|Female|          0.0|     No|        No|  61.0|         Yes|             Yes|    Fiber optic|                 No|                 No|                Yes|                 No|                 No|                Yes|Month-to-month|              No|        Mailed check|          89.2|      5500.6|   No|\n",
            "|7079-QRCBC|Female|          0.0|     No|        No|  24.0|         Yes|             Yes|    Fiber optic|                 No|                 No|                Yes|                 No|                Yes|                Yes|Month-to-month|             Yes|    Electronic check|         98.75|      2407.3|  Yes|\n",
            "|2908-ZTPNF|Female|          0.0|     No|        No|  36.0|          No|No phone service|            DSL|                 No|                Yes|                 No|                Yes|                 No|                 No|Month-to-month|             Yes|Bank transfer (au...|         34.85|      1267.2|   No|\n",
            "|0640-YJTPY|  Male|          0.0|    Yes|       Yes|  72.0|         Yes|              No|             No|No internet service|No internet service|No internet service|No internet service|No internet service|No internet service|      Two year|              No|Bank transfer (au...|          21.0|     1493.75|   No|\n",
            "+----------+------+-------------+-------+----------+------+------------+----------------+---------------+-------------------+-------------------+-------------------+-------------------+-------------------+-------------------+--------------+----------------+--------------------+--------------+------------+-----+\n",
            "only showing top 20 rows\n",
            "\n"
          ]
        }
      ]
    },
    {
      "cell_type": "code",
      "source": [
        "CustomerInfo.count()"
      ],
      "metadata": {
        "id": "_QTnMvPt8kFG",
        "outputId": "ecbe15c4-e041-49d4-d525-373414a304e7",
        "colab": {
          "base_uri": "https://localhost:8080/"
        }
      },
      "execution_count": 10,
      "outputs": [
        {
          "output_type": "execute_result",
          "data": {
            "text/plain": [
              "229990"
            ]
          },
          "metadata": {},
          "execution_count": 10
        }
      ]
    },
    {
      "cell_type": "markdown",
      "source": [
        "#  ستون های موجود در دیتاست اصلی"
      ],
      "metadata": {
        "id": "ls7gjynIaArN"
      }
    },
    {
      "cell_type": "code",
      "source": [
        "CustomerInfo.columns"
      ],
      "metadata": {
        "colab": {
          "base_uri": "https://localhost:8080/"
        },
        "id": "JQuPJ9jTZ26C",
        "outputId": "bf7af373-1c9d-49ca-b9b1-de8058230602"
      },
      "execution_count": 11,
      "outputs": [
        {
          "output_type": "execute_result",
          "data": {
            "text/plain": [
              "['customerID',\n",
              " 'gender',\n",
              " 'SeniorCitizen',\n",
              " 'Partner',\n",
              " 'Dependents',\n",
              " 'tenure',\n",
              " 'PhoneService',\n",
              " 'MultipleLines',\n",
              " 'InternetService',\n",
              " 'OnlineSecurity',\n",
              " 'OnlineBackup',\n",
              " 'DeviceProtection',\n",
              " 'TechSupport',\n",
              " 'StreamingTV',\n",
              " 'StreamingMovies',\n",
              " 'Contract',\n",
              " 'PaperlessBilling',\n",
              " 'PaymentMethod',\n",
              " 'MonthlyCharges',\n",
              " 'TotalCharges',\n",
              " 'Label']"
            ]
          },
          "metadata": {},
          "execution_count": 11
        }
      ]
    },
    {
      "cell_type": "markdown",
      "source": [
        "##در هر ستون  missing-value تعداد "
      ],
      "metadata": {
        "id": "zoGf_g3Ajv7y"
      }
    },
    {
      "cell_type": "code",
      "source": [
        "\n",
        "CustomerInfo.select([count(when(isnan(c) | col(c).isNull() , c)).alias(c) for c in CustomerInfo.columns]).show()"
      ],
      "metadata": {
        "colab": {
          "base_uri": "https://localhost:8080/"
        },
        "id": "DpXAWkB_bOv6",
        "outputId": "9e3eb63a-db9d-476a-dd7f-6cbdd847781c"
      },
      "execution_count": 20,
      "outputs": [
        {
          "output_type": "stream",
          "name": "stdout",
          "text": [
            "+----------+------+-------------+-------+----------+------+------------+-------------+---------------+--------------+------------+----------------+-----------+-----------+---------------+--------+----------------+-------------+--------------+------------+-----+\n",
            "|customerID|gender|SeniorCitizen|Partner|Dependents|tenure|PhoneService|MultipleLines|InternetService|OnlineSecurity|OnlineBackup|DeviceProtection|TechSupport|StreamingTV|StreamingMovies|Contract|PaperlessBilling|PaymentMethod|MonthlyCharges|TotalCharges|Label|\n",
            "+----------+------+-------------+-------+----------+------+------------+-------------+---------------+--------------+------------+----------------+-----------+-----------+---------------+--------+----------------+-------------+--------------+------------+-----+\n",
            "|       253|   232|          264|    224|       242|   224|         268|          260|            229|           230|         241|             251|        262|        247|            218|     230|             256|          245|           242|         251|  207|\n",
            "+----------+------+-------------+-------+----------+------+------------+-------------+---------------+--------------+------------+----------------+-----------+-----------+---------------+--------+----------------+-------------+--------------+------------+-----+\n",
            "\n"
          ]
        }
      ]
    },
    {
      "cell_type": "markdown",
      "source": [
        "برای انجام تغییرات روی دیتاست آن را به دیتاست دیگری انتقال میدهیم.\n",
        "\n",
        "تمام ستون ها از نوع رشته هستند"
      ],
      "metadata": {
        "id": "YDDU433ZazPv"
      }
    },
    {
      "cell_type": "code",
      "source": [
        "MyCustomerInfo = CustomerInfo                                                      #.drop('customerID')\n",
        "MyCustomerInfo.printSchema()"
      ],
      "metadata": {
        "colab": {
          "base_uri": "https://localhost:8080/"
        },
        "id": "IkZYu4Egk_lD",
        "outputId": "7d7dd7a8-0905-4aba-dccf-c791a0a7a2f9"
      },
      "execution_count": 13,
      "outputs": [
        {
          "output_type": "stream",
          "name": "stdout",
          "text": [
            "root\n",
            " |-- customerID: string (nullable = true)\n",
            " |-- gender: string (nullable = true)\n",
            " |-- SeniorCitizen: string (nullable = true)\n",
            " |-- Partner: string (nullable = true)\n",
            " |-- Dependents: string (nullable = true)\n",
            " |-- tenure: string (nullable = true)\n",
            " |-- PhoneService: string (nullable = true)\n",
            " |-- MultipleLines: string (nullable = true)\n",
            " |-- InternetService: string (nullable = true)\n",
            " |-- OnlineSecurity: string (nullable = true)\n",
            " |-- OnlineBackup: string (nullable = true)\n",
            " |-- DeviceProtection: string (nullable = true)\n",
            " |-- TechSupport: string (nullable = true)\n",
            " |-- StreamingTV: string (nullable = true)\n",
            " |-- StreamingMovies: string (nullable = true)\n",
            " |-- Contract: string (nullable = true)\n",
            " |-- PaperlessBilling: string (nullable = true)\n",
            " |-- PaymentMethod: string (nullable = true)\n",
            " |-- MonthlyCharges: string (nullable = true)\n",
            " |-- TotalCharges: string (nullable = true)\n",
            " |-- Label: string (nullable = true)\n",
            "\n"
          ]
        }
      ]
    },
    {
      "cell_type": "markdown",
      "source": [
        "# **پر کردن مقادیر خالی با مقادیر مناسب بر حسب نوع ستون**"
      ],
      "metadata": {
        "id": "oFtzspBtnQ_Y"
      }
    },
    {
      "cell_type": "code",
      "source": [
        "from pyspark.sql.types import IntegerType\n",
        "\n",
        "mean_Tenure = MyCustomerInfo.agg({'tenure': 'mean'})\n",
        "mean_Tenure = str((float(int(mean_Tenure.collect()[0][0]))))\n",
        "\n",
        "mean_MonthlyCharges = MyCustomerInfo.agg({'MonthlyCharges': 'mean'})\n",
        "mean_MonthlyCharges = mean_MonthlyCharges.withColumn(\"avg(MonthlyCharges)\"\\\n",
        "                                                     ,round(mean_MonthlyCharges[\"avg(MonthlyCharges)\"], 2))\n",
        "mean_MonthlyCharges = str(float(mean_MonthlyCharges.collect()[0][0]))\n",
        "\n",
        "\n",
        "mean_TotalCharges = MyCustomerInfo.agg({'TotalCharges': 'mean'})\n",
        "mean_TotalCharges = mean_TotalCharges.withColumn(\"avg(TotalCharges)\"\\\n",
        "                                                 ,round(mean_TotalCharges[\"avg(TotalCharges)\"], 2))\n",
        "mean_TotalCharges = str(float(mean_TotalCharges.collect()[0][0]))\n",
        "\n",
        "MyCustomerInfo = MyCustomerInfo.fillna({'tenure':mean_Tenure \\\n",
        "                                        ,'MonthlyCharges':mean_MonthlyCharges \\\n",
        "                                        ,'TotalCharges':mean_TotalCharges})\n",
        "\n",
        "for c in MyCustomerInfo.columns:\n",
        "    if( c not in ['customerID','tenure' ,'MonthlyCharges' ,'TotalCharges'] ):\n",
        "      mode_c = MyCustomerInfo.groupBy(c).count()\n",
        "      mode_c = mode_c.orderBy(col('count').desc())\n",
        "      mode_c = mode_c.collect()[0][0]\n",
        "      MyCustomerInfo = MyCustomerInfo.fillna({c : mode_c})\n",
        "\n",
        "     \n",
        "\n",
        "  "
      ],
      "metadata": {
        "id": "DFizkKVeiNuk"
      },
      "execution_count": 14,
      "outputs": []
    },
    {
      "cell_type": "code",
      "source": [
        "\n",
        "MyCustomerInfo.select([count(when(isnan(c) | col(c).isNull() , c)).alias(c) for c in MyCustomerInfo.columns]).show()"
      ],
      "metadata": {
        "id": "kH7vw0BSGIwu",
        "outputId": "9c4b3dac-81b0-4aa1-e3ff-f6eab5ff960f",
        "colab": {
          "base_uri": "https://localhost:8080/"
        }
      },
      "execution_count": 51,
      "outputs": [
        {
          "output_type": "stream",
          "name": "stdout",
          "text": [
            "+----------+------+-------------+-------+----------+------+------------+-------------+---------------+--------------+------------+----------------+-----------+-----------+---------------+--------+----------------+-------------+--------------+------------+-----+\n",
            "|customerID|gender|SeniorCitizen|Partner|Dependents|tenure|PhoneService|MultipleLines|InternetService|OnlineSecurity|OnlineBackup|DeviceProtection|TechSupport|StreamingTV|StreamingMovies|Contract|PaperlessBilling|PaymentMethod|MonthlyCharges|TotalCharges|Label|\n",
            "+----------+------+-------------+-------+----------+------+------------+-------------+---------------+--------------+------------+----------------+-----------+-----------+---------------+--------+----------------+-------------+--------------+------------+-----+\n",
            "|       253|     0|            0|      0|         0|     0|           0|            0|              0|             0|           0|               0|          0|          0|              0|       0|               0|            0|             0|           0|    0|\n",
            "+----------+------+-------------+-------+----------+------+------------+-------------+---------------+--------------+------------+----------------+-----------+-----------+---------------+--------+----------------+-------------+--------------+------------+-----+\n",
            "\n"
          ]
        }
      ]
    },
    {
      "cell_type": "code",
      "source": [
        "MyCustomerInfo = MyCustomerInfo.withColumn(\"tenure\",MyCustomerInfo['tenure'].cast('float'))\n",
        "MyCustomerInfo = MyCustomerInfo.withColumn(\"MonthlyCharges\",MyCustomerInfo['MonthlyCharges'].cast('float'))\n",
        "MyCustomerInfo = MyCustomerInfo.withColumn(\"TotalCharges\",MyCustomerInfo['TotalCharges'].cast('float'))\n",
        "MyCustomerInfo.printSchema()"
      ],
      "metadata": {
        "id": "SS_KA8bXk7P5",
        "outputId": "6b489f22-a8ef-4b36-d7cb-307fd822a04c",
        "colab": {
          "base_uri": "https://localhost:8080/"
        }
      },
      "execution_count": 27,
      "outputs": [
        {
          "output_type": "stream",
          "name": "stdout",
          "text": [
            "root\n",
            " |-- customerID: string (nullable = true)\n",
            " |-- gender: string (nullable = false)\n",
            " |-- SeniorCitizen: string (nullable = false)\n",
            " |-- Partner: string (nullable = false)\n",
            " |-- Dependents: string (nullable = false)\n",
            " |-- tenure: float (nullable = true)\n",
            " |-- PhoneService: string (nullable = false)\n",
            " |-- MultipleLines: string (nullable = false)\n",
            " |-- InternetService: string (nullable = false)\n",
            " |-- OnlineSecurity: string (nullable = false)\n",
            " |-- OnlineBackup: string (nullable = false)\n",
            " |-- DeviceProtection: string (nullable = false)\n",
            " |-- TechSupport: string (nullable = false)\n",
            " |-- StreamingTV: string (nullable = false)\n",
            " |-- StreamingMovies: string (nullable = false)\n",
            " |-- Contract: string (nullable = false)\n",
            " |-- PaperlessBilling: string (nullable = false)\n",
            " |-- PaymentMethod: string (nullable = false)\n",
            " |-- MonthlyCharges: float (nullable = true)\n",
            " |-- TotalCharges: float (nullable = true)\n",
            " |-- Label: string (nullable = false)\n",
            "\n"
          ]
        }
      ]
    },
    {
      "cell_type": "code",
      "source": [
        "from pyspark.ml import Pipeline\n",
        "from pyspark.ml.feature import StringIndexer, OneHotEncoder, VectorAssembler\n",
        "\n",
        "num_col = ['tenure','MonthlyCharges','TotalCharges']\n",
        "cat_col = ['gender','SeniorCitizen','Partner','Dependents','PhoneService','MultipleLines','InternetService',\\\n",
        "                      'OnlineSecurity','OnlineBackup','DeviceProtection','TechSupport','StreamingTV','StreamingMovies',\\\n",
        "                        'Contract','PaperlessBilling','PaymentMethod']\n",
        "indexers = [StringIndexer(inputCol=column, outputCol= \"{0}_indexed\".format(column)).fit(MyCustomerInfo) for column in cat_col ]\n",
        "Label_indexer = StringIndexer(inputCol='Label',outputCol= \"Label_indexed\")\n",
        "encoders = [OneHotEncoder(dropLast=False,inputCol = indexer.getOutputCol()\\\n",
        "                          , outputCol= \"{0}_encoded\".format(indexer.getOutputCol())) for indexer in indexers]\n",
        "\n",
        "assembler = VectorAssembler(inputCols=[encoder.getOutputCol() for encoder in encoders]+ num_col,outputCol=\"features\")\n",
        "\n",
        "pipeline = Pipeline(stages=indexers + encoders+[assembler]+ [Label_indexer])\n",
        "model = pipeline.fit(MyCustomerInfo)\n",
        "MyCustomerInfo_tr = model.transform(MyCustomerInfo)\n",
        "MyCustomerInfo_tr.show()\n",
        "\n"
      ],
      "metadata": {
        "colab": {
          "base_uri": "https://localhost:8080/"
        },
        "id": "UPp5Y_LJoYfQ",
        "outputId": "df4a552d-471e-49b5-a5ff-7dd67fab4f45"
      },
      "execution_count": 128,
      "outputs": [
        {
          "output_type": "stream",
          "name": "stdout",
          "text": [
            "+----------+------+-------------+-------+----------+------+------------+----------------+---------------+-------------------+-------------------+-------------------+-------------------+-------------------+-------------------+--------------+----------------+--------------------+--------------+------------+-----+--------------+---------------------+---------------+------------------+--------------------+---------------------+-----------------------+----------------------+--------------------+------------------------+-------------------+-------------------+-----------------------+----------------+------------------------+---------------------+----------------------+-----------------------------+-----------------------+--------------------------+----------------------------+-----------------------------+-------------------------------+------------------------------+----------------------------+--------------------------------+---------------------------+---------------------------+-------------------------------+------------------------+--------------------------------+-----------------------------+--------------------+-------------+\n",
            "|customerID|gender|SeniorCitizen|Partner|Dependents|tenure|PhoneService|   MultipleLines|InternetService|     OnlineSecurity|       OnlineBackup|   DeviceProtection|        TechSupport|        StreamingTV|    StreamingMovies|      Contract|PaperlessBilling|       PaymentMethod|MonthlyCharges|TotalCharges|Label|gender_indexed|SeniorCitizen_indexed|Partner_indexed|Dependents_indexed|PhoneService_indexed|MultipleLines_indexed|InternetService_indexed|OnlineSecurity_indexed|OnlineBackup_indexed|DeviceProtection_indexed|TechSupport_indexed|StreamingTV_indexed|StreamingMovies_indexed|Contract_indexed|PaperlessBilling_indexed|PaymentMethod_indexed|gender_indexed_encoded|SeniorCitizen_indexed_encoded|Partner_indexed_encoded|Dependents_indexed_encoded|PhoneService_indexed_encoded|MultipleLines_indexed_encoded|InternetService_indexed_encoded|OnlineSecurity_indexed_encoded|OnlineBackup_indexed_encoded|DeviceProtection_indexed_encoded|TechSupport_indexed_encoded|StreamingTV_indexed_encoded|StreamingMovies_indexed_encoded|Contract_indexed_encoded|PaperlessBilling_indexed_encoded|PaymentMethod_indexed_encoded|            features|Label_indexed|\n",
            "+----------+------+-------------+-------+----------+------+------------+----------------+---------------+-------------------+-------------------+-------------------+-------------------+-------------------+-------------------+--------------+----------------+--------------------+--------------+------------+-----+--------------+---------------------+---------------+------------------+--------------------+---------------------+-----------------------+----------------------+--------------------+------------------------+-------------------+-------------------+-----------------------+----------------+------------------------+---------------------+----------------------+-----------------------------+-----------------------+--------------------------+----------------------------+-----------------------------+-------------------------------+------------------------------+----------------------------+--------------------------------+---------------------------+---------------------------+-------------------------------+------------------------+--------------------------------+-----------------------------+--------------------+-------------+\n",
            "|5331-RGMTT|  Male|          1.0|    Yes|        No|  54.0|         Yes|             Yes|    Fiber optic|                 No|                 No|                Yes|                 No|                Yes|                Yes|Month-to-month|             Yes|Credit card (auto...|         99.05|      5295.7|   No|           0.0|                  1.0|            0.0|               0.0|                 0.0|                  0.0|                    0.0|                   1.0|                 1.0|                     0.0|                1.0|                0.0|                    0.0|             1.0|                     0.0|                  1.0|         (2,[0],[1.0])|                (4,[1],[1.0])|          (2,[0],[1.0])|             (2,[0],[1.0])|               (2,[0],[1.0])|                (3,[0],[1.0])|                  (3,[0],[1.0])|                 (3,[1],[1.0])|               (3,[1],[1.0])|                   (3,[0],[1.0])|              (3,[1],[1.0])|              (3,[0],[1.0])|                  (3,[0],[1.0])|           (3,[1],[1.0])|                   (2,[0],[1.0])|                (4,[1],[1.0])|(48,[0,3,6,8,10,1...|          0.0|\n",
            "|5161-XEUVX|  Male|          0.0|    Yes|        No|  37.0|         Yes|             Yes|    Fiber optic|                 No|                 No|                Yes|                Yes|                Yes|                 No|      Two year|              No|        Mailed check|          94.3|     3460.95|   No|           0.0|                  0.0|            0.0|               0.0|                 0.0|                  0.0|                    0.0|                   1.0|                 1.0|                     0.0|                0.0|                0.0|                    1.0|             0.0|                     1.0|                  3.0|         (2,[0],[1.0])|                (4,[0],[1.0])|          (2,[0],[1.0])|             (2,[0],[1.0])|               (2,[0],[1.0])|                (3,[0],[1.0])|                  (3,[0],[1.0])|                 (3,[1],[1.0])|               (3,[1],[1.0])|                   (3,[0],[1.0])|              (3,[0],[1.0])|              (3,[0],[1.0])|                  (3,[1],[1.0])|           (3,[0],[1.0])|                   (2,[1],[1.0])|                (4,[3],[1.0])|(48,[0,2,6,8,10,1...|          0.0|\n",
            "|0336-PIKEI|  Male|          1.0|    Yes|        No|  72.0|         Yes|              No|            DSL|                Yes|                Yes|                Yes|                Yes|                Yes|                 No|      Two year|              No|Bank transfer (au...|          74.4|     5360.75|   No|           0.0|                  1.0|            0.0|               0.0|                 0.0|                  1.0|                    1.0|                   0.0|                 0.0|                     0.0|                0.0|                0.0|                    1.0|             0.0|                     1.0|                  0.0|         (2,[0],[1.0])|                (4,[1],[1.0])|          (2,[0],[1.0])|             (2,[0],[1.0])|               (2,[0],[1.0])|                (3,[1],[1.0])|                  (3,[1],[1.0])|                 (3,[0],[1.0])|               (3,[0],[1.0])|                   (3,[0],[1.0])|              (3,[0],[1.0])|              (3,[0],[1.0])|                  (3,[1],[1.0])|           (3,[0],[1.0])|                   (2,[1],[1.0])|                (4,[0],[1.0])|(48,[0,3,6,8,10,1...|          0.0|\n",
            "|3345-PBBFH|  Male|          0.0|    Yes|        No|   8.0|         Yes|              No|            DSL|                 No|                Yes|                 No|                 No|                 No|                 No|Month-to-month|             Yes|Bank transfer (au...|         49.55|      393.45|   No|           0.0|                  0.0|            0.0|               0.0|                 0.0|                  1.0|                    1.0|                   1.0|                 0.0|                     1.0|                1.0|                1.0|                    1.0|             1.0|                     0.0|                  0.0|         (2,[0],[1.0])|                (4,[0],[1.0])|          (2,[0],[1.0])|             (2,[0],[1.0])|               (2,[0],[1.0])|                (3,[1],[1.0])|                  (3,[1],[1.0])|                 (3,[1],[1.0])|               (3,[0],[1.0])|                   (3,[1],[1.0])|              (3,[1],[1.0])|              (3,[1],[1.0])|                  (3,[1],[1.0])|           (3,[1],[1.0])|                   (2,[0],[1.0])|                (4,[0],[1.0])|(48,[0,2,6,8,10,1...|          0.0|\n",
            "|5067-XJQFU|  Male|          1.0|    Yes|       Yes|  66.0|         Yes|             Yes|    Fiber optic|                 No|                Yes|                Yes|                Yes|                Yes|                Yes|      One year|             Yes|    Electronic check|        108.45|     7076.35|   No|           0.0|                  1.0|            0.0|               1.0|                 0.0|                  0.0|                    0.0|                   1.0|                 0.0|                     0.0|                0.0|                0.0|                    0.0|             2.0|                     0.0|                  2.0|         (2,[0],[1.0])|                (4,[1],[1.0])|          (2,[0],[1.0])|             (2,[1],[1.0])|               (2,[0],[1.0])|                (3,[0],[1.0])|                  (3,[0],[1.0])|                 (3,[1],[1.0])|               (3,[0],[1.0])|                   (3,[0],[1.0])|              (3,[0],[1.0])|              (3,[0],[1.0])|                  (3,[0],[1.0])|           (3,[2],[1.0])|                   (2,[0],[1.0])|                (4,[2],[1.0])|(48,[0,3,6,9,10,1...|          0.0|\n",
            "|4056-QHXHZ|Female|          0.0|    Yes|       Yes|  72.0|         Yes|             Yes|    Fiber optic|                Yes|                 No|                Yes|                Yes|                Yes|                Yes|      Two year|              No|        Mailed check|        107.45|      7576.7|   No|           1.0|                  0.0|            0.0|               1.0|                 0.0|                  0.0|                    0.0|                   0.0|                 1.0|                     0.0|                0.0|                0.0|                    0.0|             0.0|                     1.0|                  3.0|         (2,[1],[1.0])|                (4,[0],[1.0])|          (2,[0],[1.0])|             (2,[1],[1.0])|               (2,[0],[1.0])|                (3,[0],[1.0])|                  (3,[0],[1.0])|                 (3,[0],[1.0])|               (3,[1],[1.0])|                   (3,[0],[1.0])|              (3,[0],[1.0])|              (3,[0],[1.0])|                  (3,[0],[1.0])|           (3,[0],[1.0])|                   (2,[1],[1.0])|                (4,[3],[1.0])|(48,[1,2,6,9,10,1...|          0.0|\n",
            "|8028-PNXHQ|  Male|          0.0|    Yes|       Yes|  62.0|         Yes|             Yes|             No|No internet service|No internet service|No internet service|No internet service|No internet service|No internet service|      Two year|             Yes|Bank transfer (au...|         24.25|      1424.6|   No|           0.0|                  0.0|            0.0|               1.0|                 0.0|                  0.0|                    2.0|                   2.0|                 2.0|                     2.0|                2.0|                2.0|                    2.0|             0.0|                     0.0|                  0.0|         (2,[0],[1.0])|                (4,[0],[1.0])|          (2,[0],[1.0])|             (2,[1],[1.0])|               (2,[0],[1.0])|                (3,[0],[1.0])|                  (3,[2],[1.0])|                 (3,[2],[1.0])|               (3,[2],[1.0])|                   (3,[2],[1.0])|              (3,[2],[1.0])|              (3,[2],[1.0])|                  (3,[2],[1.0])|           (3,[0],[1.0])|                   (2,[0],[1.0])|                (4,[0],[1.0])|(48,[0,2,6,9,10,1...|          0.0|\n",
            "|8181-YHCMF|Female|          0.0|    Yes|       Yes|  68.0|          No|No phone service|            DSL|                 No|                Yes|                Yes|                Yes|                Yes|                Yes|      Two year|              No|Credit card (auto...|          60.3|      4109.0|   No|           1.0|                  0.0|            0.0|               1.0|                 1.0|                  2.0|                    1.0|                   1.0|                 0.0|                     0.0|                0.0|                0.0|                    0.0|             0.0|                     1.0|                  1.0|         (2,[1],[1.0])|                (4,[0],[1.0])|          (2,[0],[1.0])|             (2,[1],[1.0])|               (2,[1],[1.0])|                (3,[2],[1.0])|                  (3,[1],[1.0])|                 (3,[1],[1.0])|               (3,[0],[1.0])|                   (3,[0],[1.0])|              (3,[0],[1.0])|              (3,[0],[1.0])|                  (3,[0],[1.0])|           (3,[0],[1.0])|                   (2,[1],[1.0])|                (4,[1],[1.0])|(48,[1,2,6,9,11,1...|          0.0|\n",
            "|6734-PSBAW|  Male|          0.0|    Yes|        No|  72.0|         Yes|             Yes|             No|No internet service|No internet service|No internet service|No internet service|No internet service|No internet service|      Two year|             Yes|Bank transfer (au...|         23.55|     1723.95|   No|           0.0|                  0.0|            0.0|               0.0|                 0.0|                  0.0|                    2.0|                   2.0|                 2.0|                     2.0|                2.0|                2.0|                    2.0|             0.0|                     0.0|                  0.0|         (2,[0],[1.0])|                (4,[0],[1.0])|          (2,[0],[1.0])|             (2,[0],[1.0])|               (2,[0],[1.0])|                (3,[0],[1.0])|                  (3,[2],[1.0])|                 (3,[2],[1.0])|               (3,[2],[1.0])|                   (3,[2],[1.0])|              (3,[2],[1.0])|              (3,[2],[1.0])|                  (3,[2],[1.0])|           (3,[0],[1.0])|                   (2,[0],[1.0])|                (4,[0],[1.0])|(48,[0,2,6,8,10,1...|          0.0|\n",
            "|3655-SNQYZ|Female|          0.0|    Yes|       Yes|  69.0|         Yes|             Yes|    Fiber optic|                Yes|                Yes|                Yes|                Yes|                Yes|                Yes|      Two year|              No|Credit card (auto...|        113.25|     7895.15|   No|           1.0|                  0.0|            0.0|               1.0|                 0.0|                  0.0|                    0.0|                   0.0|                 0.0|                     0.0|                0.0|                0.0|                    0.0|             0.0|                     1.0|                  1.0|         (2,[1],[1.0])|                (4,[0],[1.0])|          (2,[0],[1.0])|             (2,[1],[1.0])|               (2,[0],[1.0])|                (3,[0],[1.0])|                  (3,[0],[1.0])|                 (3,[0],[1.0])|               (3,[0],[1.0])|                   (3,[0],[1.0])|              (3,[0],[1.0])|              (3,[0],[1.0])|                  (3,[0],[1.0])|           (3,[0],[1.0])|                   (2,[1],[1.0])|                (4,[1],[1.0])|(48,[1,2,6,9,10,1...|          0.0|\n",
            "|9508-ILZDG|Female|          1.0|     No|        No|  34.0|         Yes|             Yes|    Fiber optic|                 No|                Yes|                 No|                Yes|                Yes|                 No|Month-to-month|             Yes|    Electronic check|         96.35|     3190.25|   No|           1.0|                  1.0|            1.0|               0.0|                 0.0|                  0.0|                    0.0|                   1.0|                 0.0|                     1.0|                0.0|                0.0|                    1.0|             1.0|                     0.0|                  2.0|         (2,[1],[1.0])|                (4,[1],[1.0])|          (2,[1],[1.0])|             (2,[0],[1.0])|               (2,[0],[1.0])|                (3,[0],[1.0])|                  (3,[0],[1.0])|                 (3,[1],[1.0])|               (3,[0],[1.0])|                   (3,[1],[1.0])|              (3,[0],[1.0])|              (3,[0],[1.0])|                  (3,[1],[1.0])|           (3,[1],[1.0])|                   (2,[0],[1.0])|                (4,[2],[1.0])|(48,[1,3,7,8,10,1...|          0.0|\n",
            "|3620-EHIMZ|Female|          0.0|    Yes|       Yes|  52.0|         Yes|              No|             No|No internet service|No internet service|No internet service|No internet service|No internet service|No internet service|      Two year|              No|        Mailed check|         19.35|      1031.7|   No|           1.0|                  0.0|            0.0|               1.0|                 0.0|                  1.0|                    2.0|                   2.0|                 2.0|                     2.0|                2.0|                2.0|                    2.0|             0.0|                     1.0|                  3.0|         (2,[1],[1.0])|                (4,[0],[1.0])|          (2,[0],[1.0])|             (2,[1],[1.0])|               (2,[0],[1.0])|                (3,[1],[1.0])|                  (3,[2],[1.0])|                 (3,[2],[1.0])|               (3,[2],[1.0])|                   (3,[2],[1.0])|              (3,[2],[1.0])|              (3,[2],[1.0])|                  (3,[2],[1.0])|           (3,[0],[1.0])|                   (2,[1],[1.0])|                (4,[3],[1.0])|(48,[1,2,6,9,10,1...|          0.0|\n",
            "|4178-EGMON|  Male|          0.0|    Yes|        No|  70.0|         Yes|             Yes|    Fiber optic|                Yes|                Yes|                 No|                Yes|                 No|                 No|      Two year|             Yes|Credit card (auto...|          88.0|     5986.45|   No|           0.0|                  0.0|            0.0|               0.0|                 0.0|                  0.0|                    0.0|                   0.0|                 0.0|                     1.0|                0.0|                1.0|                    1.0|             0.0|                     0.0|                  1.0|         (2,[0],[1.0])|                (4,[0],[1.0])|          (2,[0],[1.0])|             (2,[0],[1.0])|               (2,[0],[1.0])|                (3,[0],[1.0])|                  (3,[0],[1.0])|                 (3,[0],[1.0])|               (3,[0],[1.0])|                   (3,[1],[1.0])|              (3,[0],[1.0])|              (3,[1],[1.0])|                  (3,[1],[1.0])|           (3,[0],[1.0])|                   (2,[0],[1.0])|                (4,[1],[1.0])|(48,[0,2,6,8,10,1...|          0.0|\n",
            "|0036-IHMOT|Female|          0.0|    Yes|       Yes|  55.0|         Yes|              No|    Fiber optic|                 No|                Yes|                Yes|                Yes|                Yes|                Yes|      One year|             Yes|Bank transfer (au...|         103.7|     5656.75|   No|           1.0|                  0.0|            0.0|               1.0|                 0.0|                  1.0|                    0.0|                   1.0|                 0.0|                     0.0|                0.0|                0.0|                    0.0|             2.0|                     0.0|                  0.0|         (2,[1],[1.0])|                (4,[0],[1.0])|          (2,[0],[1.0])|             (2,[1],[1.0])|               (2,[0],[1.0])|                (3,[1],[1.0])|                  (3,[0],[1.0])|                 (3,[1],[1.0])|               (3,[0],[1.0])|                   (3,[0],[1.0])|              (3,[0],[1.0])|              (3,[0],[1.0])|                  (3,[0],[1.0])|           (3,[2],[1.0])|                   (2,[0],[1.0])|                (4,[0],[1.0])|(48,[1,2,6,9,10,1...|          0.0|\n",
            "|0281-CNTZX|  Male|          0.0|    Yes|        No|  63.0|         Yes|              No|             No|No internet service|No internet service|No internet service|No internet service|No internet service|No internet service|      Two year|             Yes|Bank transfer (au...|         19.95|      1234.8|   No|           0.0|                  0.0|            0.0|               0.0|                 0.0|                  1.0|                    2.0|                   2.0|                 2.0|                     2.0|                2.0|                2.0|                    2.0|             0.0|                     0.0|                  0.0|         (2,[0],[1.0])|                (4,[0],[1.0])|          (2,[0],[1.0])|             (2,[0],[1.0])|               (2,[0],[1.0])|                (3,[1],[1.0])|                  (3,[2],[1.0])|                 (3,[2],[1.0])|               (3,[2],[1.0])|                   (3,[2],[1.0])|              (3,[2],[1.0])|              (3,[2],[1.0])|                  (3,[2],[1.0])|           (3,[0],[1.0])|                   (2,[0],[1.0])|                (4,[0],[1.0])|(48,[0,2,6,8,10,1...|          0.0|\n",
            "|0530-IJVDB|  Male|          0.0|     No|       Yes|  70.0|         Yes|             Yes|    Fiber optic|                Yes|                Yes|                Yes|                Yes|                Yes|                Yes|      Two year|             Yes|    Electronic check|         114.6|      7882.5|   No|           0.0|                  0.0|            1.0|               1.0|                 0.0|                  0.0|                    0.0|                   0.0|                 0.0|                     0.0|                0.0|                0.0|                    0.0|             0.0|                     0.0|                  2.0|         (2,[0],[1.0])|                (4,[0],[1.0])|          (2,[1],[1.0])|             (2,[1],[1.0])|               (2,[0],[1.0])|                (3,[0],[1.0])|                  (3,[0],[1.0])|                 (3,[0],[1.0])|               (3,[0],[1.0])|                   (3,[0],[1.0])|              (3,[0],[1.0])|              (3,[0],[1.0])|                  (3,[0],[1.0])|           (3,[0],[1.0])|                   (2,[0],[1.0])|                (4,[2],[1.0])|(48,[0,2,7,9,10,1...|          0.0|\n",
            "|7251-XFOIL|Female|          0.0|     No|        No|  61.0|         Yes|             Yes|    Fiber optic|                 No|                 No|                Yes|                 No|                 No|                Yes|Month-to-month|              No|        Mailed check|          89.2|      5500.6|   No|           1.0|                  0.0|            1.0|               0.0|                 0.0|                  0.0|                    0.0|                   1.0|                 1.0|                     0.0|                1.0|                1.0|                    0.0|             1.0|                     1.0|                  3.0|         (2,[1],[1.0])|                (4,[0],[1.0])|          (2,[1],[1.0])|             (2,[0],[1.0])|               (2,[0],[1.0])|                (3,[0],[1.0])|                  (3,[0],[1.0])|                 (3,[1],[1.0])|               (3,[1],[1.0])|                   (3,[0],[1.0])|              (3,[1],[1.0])|              (3,[1],[1.0])|                  (3,[0],[1.0])|           (3,[1],[1.0])|                   (2,[1],[1.0])|                (4,[3],[1.0])|(48,[1,2,7,8,10,1...|          0.0|\n",
            "|7079-QRCBC|Female|          0.0|     No|        No|  24.0|         Yes|             Yes|    Fiber optic|                 No|                 No|                Yes|                 No|                Yes|                Yes|Month-to-month|             Yes|    Electronic check|         98.75|      2407.3|  Yes|           1.0|                  0.0|            1.0|               0.0|                 0.0|                  0.0|                    0.0|                   1.0|                 1.0|                     0.0|                1.0|                0.0|                    0.0|             1.0|                     0.0|                  2.0|         (2,[1],[1.0])|                (4,[0],[1.0])|          (2,[1],[1.0])|             (2,[0],[1.0])|               (2,[0],[1.0])|                (3,[0],[1.0])|                  (3,[0],[1.0])|                 (3,[1],[1.0])|               (3,[1],[1.0])|                   (3,[0],[1.0])|              (3,[1],[1.0])|              (3,[0],[1.0])|                  (3,[0],[1.0])|           (3,[1],[1.0])|                   (2,[0],[1.0])|                (4,[2],[1.0])|(48,[1,2,7,8,10,1...|          1.0|\n",
            "|2908-ZTPNF|Female|          0.0|     No|        No|  36.0|          No|No phone service|            DSL|                 No|                Yes|                 No|                Yes|                 No|                 No|Month-to-month|             Yes|Bank transfer (au...|         34.85|      1267.2|   No|           1.0|                  0.0|            1.0|               0.0|                 1.0|                  2.0|                    1.0|                   1.0|                 0.0|                     1.0|                0.0|                1.0|                    1.0|             1.0|                     0.0|                  0.0|         (2,[1],[1.0])|                (4,[0],[1.0])|          (2,[1],[1.0])|             (2,[0],[1.0])|               (2,[1],[1.0])|                (3,[2],[1.0])|                  (3,[1],[1.0])|                 (3,[1],[1.0])|               (3,[0],[1.0])|                   (3,[1],[1.0])|              (3,[0],[1.0])|              (3,[1],[1.0])|                  (3,[1],[1.0])|           (3,[1],[1.0])|                   (2,[0],[1.0])|                (4,[0],[1.0])|(48,[1,2,7,8,11,1...|          0.0|\n",
            "|0640-YJTPY|  Male|          0.0|    Yes|       Yes|  72.0|         Yes|              No|             No|No internet service|No internet service|No internet service|No internet service|No internet service|No internet service|      Two year|              No|Bank transfer (au...|          21.0|     1493.75|   No|           0.0|                  0.0|            0.0|               1.0|                 0.0|                  1.0|                    2.0|                   2.0|                 2.0|                     2.0|                2.0|                2.0|                    2.0|             0.0|                     1.0|                  0.0|         (2,[0],[1.0])|                (4,[0],[1.0])|          (2,[0],[1.0])|             (2,[1],[1.0])|               (2,[0],[1.0])|                (3,[1],[1.0])|                  (3,[2],[1.0])|                 (3,[2],[1.0])|               (3,[2],[1.0])|                   (3,[2],[1.0])|              (3,[2],[1.0])|              (3,[2],[1.0])|                  (3,[2],[1.0])|           (3,[0],[1.0])|                   (2,[1],[1.0])|                (4,[0],[1.0])|(48,[0,2,6,9,10,1...|          0.0|\n",
            "+----------+------+-------------+-------+----------+------+------------+----------------+---------------+-------------------+-------------------+-------------------+-------------------+-------------------+-------------------+--------------+----------------+--------------------+--------------+------------+-----+--------------+---------------------+---------------+------------------+--------------------+---------------------+-----------------------+----------------------+--------------------+------------------------+-------------------+-------------------+-----------------------+----------------+------------------------+---------------------+----------------------+-----------------------------+-----------------------+--------------------------+----------------------------+-----------------------------+-------------------------------+------------------------------+----------------------------+--------------------------------+---------------------------+---------------------------+-------------------------------+------------------------+--------------------------------+-----------------------------+--------------------+-------------+\n",
            "only showing top 20 rows\n",
            "\n"
          ]
        }
      ]
    },
    {
      "cell_type": "markdown",
      "source": [
        "##**بعد از پرکردن مقادیر خالی به تحلیل اثر هر ستون در پیش بینی می پردازیم**\n",
        "\n",
        "\n",
        "\n"
      ],
      "metadata": {
        "id": "71aQhFtzD3Cy"
      }
    },
    {
      "cell_type": "markdown",
      "source": [
        "# **(customerID)ستون اول**\n",
        "# این ستون اثری در پیش بینی مدل نخواهد داشت فقط به عنوان شناسه استفاده خواهد شد\n",
        "# پس در آموزش مدل از آن استفاده نمیکنیم"
      ],
      "metadata": {
        "id": "GW8RSsZ47syW"
      }
    },
    {
      "cell_type": "markdown",
      "source": [
        " \n",
        "# **(gender) ستون دوم**\n",
        "\n",
        "# همانطور که از نتیجه ی زیر مشخص است\n",
        "\n",
        "# **زن** یا **مرد** بودن تاثیر چندانی در پیش بینی ندارد\n",
        "\n",
        "# پس بهتر است این ستون را حذف کنیم"
      ],
      "metadata": {
        "id": "f02I1OzpELsa"
      }
    },
    {
      "cell_type": "code",
      "source": [
        "gender_dependency = MyCustomerInfo_tr.groupBy('gender','Label').count()\n",
        "gender_dependency.show()\n",
        "print('corrolation between gender and Label:')\n",
        "MyCustomerInfo_tr.corr('gender_indexed','Label_indexed','pearson')\n"
      ],
      "metadata": {
        "colab": {
          "base_uri": "https://localhost:8080/"
        },
        "id": "NmR5N3VVlDmL",
        "outputId": "5c438cfd-b1b0-46ee-e1ca-4da48f6c8f27"
      },
      "execution_count": 129,
      "outputs": [
        {
          "output_type": "stream",
          "name": "stdout",
          "text": [
            "+------+-----+-----+\n",
            "|gender|Label|count|\n",
            "+------+-----+-----+\n",
            "|  Male|   No|98693|\n",
            "|  Male|  Yes|17845|\n",
            "|Female|   No|97393|\n",
            "|Female|  Yes|16059|\n",
            "+------+-----+-----+\n",
            "\n",
            "corrolation between gender and Label:\n"
          ]
        },
        {
          "output_type": "execute_result",
          "data": {
            "text/plain": [
              "-0.016326515705542194"
            ]
          },
          "metadata": {},
          "execution_count": 129
        }
      ]
    },
    {
      "cell_type": "code",
      "source": [
        "MyCustomerInfo_tr.drop('gender','gender_indexed','gender_indexed_end=coded').show()"
      ],
      "metadata": {
        "colab": {
          "base_uri": "https://localhost:8080/"
        },
        "id": "vV-UilFzSZQV",
        "outputId": "ef59ea45-72b5-4e11-afb4-945bef0203b0"
      },
      "execution_count": 130,
      "outputs": [
        {
          "output_type": "stream",
          "name": "stdout",
          "text": [
            "+----------+-------------+-------+----------+------+------------+----------------+---------------+-------------------+-------------------+-------------------+-------------------+-------------------+-------------------+--------------+----------------+--------------------+--------------+------------+-----+---------------------+---------------+------------------+--------------------+---------------------+-----------------------+----------------------+--------------------+------------------------+-------------------+-------------------+-----------------------+----------------+------------------------+---------------------+----------------------+-----------------------------+-----------------------+--------------------------+----------------------------+-----------------------------+-------------------------------+------------------------------+----------------------------+--------------------------------+---------------------------+---------------------------+-------------------------------+------------------------+--------------------------------+-----------------------------+--------------------+-------------+\n",
            "|customerID|SeniorCitizen|Partner|Dependents|tenure|PhoneService|   MultipleLines|InternetService|     OnlineSecurity|       OnlineBackup|   DeviceProtection|        TechSupport|        StreamingTV|    StreamingMovies|      Contract|PaperlessBilling|       PaymentMethod|MonthlyCharges|TotalCharges|Label|SeniorCitizen_indexed|Partner_indexed|Dependents_indexed|PhoneService_indexed|MultipleLines_indexed|InternetService_indexed|OnlineSecurity_indexed|OnlineBackup_indexed|DeviceProtection_indexed|TechSupport_indexed|StreamingTV_indexed|StreamingMovies_indexed|Contract_indexed|PaperlessBilling_indexed|PaymentMethod_indexed|gender_indexed_encoded|SeniorCitizen_indexed_encoded|Partner_indexed_encoded|Dependents_indexed_encoded|PhoneService_indexed_encoded|MultipleLines_indexed_encoded|InternetService_indexed_encoded|OnlineSecurity_indexed_encoded|OnlineBackup_indexed_encoded|DeviceProtection_indexed_encoded|TechSupport_indexed_encoded|StreamingTV_indexed_encoded|StreamingMovies_indexed_encoded|Contract_indexed_encoded|PaperlessBilling_indexed_encoded|PaymentMethod_indexed_encoded|            features|Label_indexed|\n",
            "+----------+-------------+-------+----------+------+------------+----------------+---------------+-------------------+-------------------+-------------------+-------------------+-------------------+-------------------+--------------+----------------+--------------------+--------------+------------+-----+---------------------+---------------+------------------+--------------------+---------------------+-----------------------+----------------------+--------------------+------------------------+-------------------+-------------------+-----------------------+----------------+------------------------+---------------------+----------------------+-----------------------------+-----------------------+--------------------------+----------------------------+-----------------------------+-------------------------------+------------------------------+----------------------------+--------------------------------+---------------------------+---------------------------+-------------------------------+------------------------+--------------------------------+-----------------------------+--------------------+-------------+\n",
            "|5331-RGMTT|          1.0|    Yes|        No|  54.0|         Yes|             Yes|    Fiber optic|                 No|                 No|                Yes|                 No|                Yes|                Yes|Month-to-month|             Yes|Credit card (auto...|         99.05|      5295.7|   No|                  1.0|            0.0|               0.0|                 0.0|                  0.0|                    0.0|                   1.0|                 1.0|                     0.0|                1.0|                0.0|                    0.0|             1.0|                     0.0|                  1.0|         (2,[0],[1.0])|                (4,[1],[1.0])|          (2,[0],[1.0])|             (2,[0],[1.0])|               (2,[0],[1.0])|                (3,[0],[1.0])|                  (3,[0],[1.0])|                 (3,[1],[1.0])|               (3,[1],[1.0])|                   (3,[0],[1.0])|              (3,[1],[1.0])|              (3,[0],[1.0])|                  (3,[0],[1.0])|           (3,[1],[1.0])|                   (2,[0],[1.0])|                (4,[1],[1.0])|(48,[0,3,6,8,10,1...|          0.0|\n",
            "|5161-XEUVX|          0.0|    Yes|        No|  37.0|         Yes|             Yes|    Fiber optic|                 No|                 No|                Yes|                Yes|                Yes|                 No|      Two year|              No|        Mailed check|          94.3|     3460.95|   No|                  0.0|            0.0|               0.0|                 0.0|                  0.0|                    0.0|                   1.0|                 1.0|                     0.0|                0.0|                0.0|                    1.0|             0.0|                     1.0|                  3.0|         (2,[0],[1.0])|                (4,[0],[1.0])|          (2,[0],[1.0])|             (2,[0],[1.0])|               (2,[0],[1.0])|                (3,[0],[1.0])|                  (3,[0],[1.0])|                 (3,[1],[1.0])|               (3,[1],[1.0])|                   (3,[0],[1.0])|              (3,[0],[1.0])|              (3,[0],[1.0])|                  (3,[1],[1.0])|           (3,[0],[1.0])|                   (2,[1],[1.0])|                (4,[3],[1.0])|(48,[0,2,6,8,10,1...|          0.0|\n",
            "|0336-PIKEI|          1.0|    Yes|        No|  72.0|         Yes|              No|            DSL|                Yes|                Yes|                Yes|                Yes|                Yes|                 No|      Two year|              No|Bank transfer (au...|          74.4|     5360.75|   No|                  1.0|            0.0|               0.0|                 0.0|                  1.0|                    1.0|                   0.0|                 0.0|                     0.0|                0.0|                0.0|                    1.0|             0.0|                     1.0|                  0.0|         (2,[0],[1.0])|                (4,[1],[1.0])|          (2,[0],[1.0])|             (2,[0],[1.0])|               (2,[0],[1.0])|                (3,[1],[1.0])|                  (3,[1],[1.0])|                 (3,[0],[1.0])|               (3,[0],[1.0])|                   (3,[0],[1.0])|              (3,[0],[1.0])|              (3,[0],[1.0])|                  (3,[1],[1.0])|           (3,[0],[1.0])|                   (2,[1],[1.0])|                (4,[0],[1.0])|(48,[0,3,6,8,10,1...|          0.0|\n",
            "|3345-PBBFH|          0.0|    Yes|        No|   8.0|         Yes|              No|            DSL|                 No|                Yes|                 No|                 No|                 No|                 No|Month-to-month|             Yes|Bank transfer (au...|         49.55|      393.45|   No|                  0.0|            0.0|               0.0|                 0.0|                  1.0|                    1.0|                   1.0|                 0.0|                     1.0|                1.0|                1.0|                    1.0|             1.0|                     0.0|                  0.0|         (2,[0],[1.0])|                (4,[0],[1.0])|          (2,[0],[1.0])|             (2,[0],[1.0])|               (2,[0],[1.0])|                (3,[1],[1.0])|                  (3,[1],[1.0])|                 (3,[1],[1.0])|               (3,[0],[1.0])|                   (3,[1],[1.0])|              (3,[1],[1.0])|              (3,[1],[1.0])|                  (3,[1],[1.0])|           (3,[1],[1.0])|                   (2,[0],[1.0])|                (4,[0],[1.0])|(48,[0,2,6,8,10,1...|          0.0|\n",
            "|5067-XJQFU|          1.0|    Yes|       Yes|  66.0|         Yes|             Yes|    Fiber optic|                 No|                Yes|                Yes|                Yes|                Yes|                Yes|      One year|             Yes|    Electronic check|        108.45|     7076.35|   No|                  1.0|            0.0|               1.0|                 0.0|                  0.0|                    0.0|                   1.0|                 0.0|                     0.0|                0.0|                0.0|                    0.0|             2.0|                     0.0|                  2.0|         (2,[0],[1.0])|                (4,[1],[1.0])|          (2,[0],[1.0])|             (2,[1],[1.0])|               (2,[0],[1.0])|                (3,[0],[1.0])|                  (3,[0],[1.0])|                 (3,[1],[1.0])|               (3,[0],[1.0])|                   (3,[0],[1.0])|              (3,[0],[1.0])|              (3,[0],[1.0])|                  (3,[0],[1.0])|           (3,[2],[1.0])|                   (2,[0],[1.0])|                (4,[2],[1.0])|(48,[0,3,6,9,10,1...|          0.0|\n",
            "|4056-QHXHZ|          0.0|    Yes|       Yes|  72.0|         Yes|             Yes|    Fiber optic|                Yes|                 No|                Yes|                Yes|                Yes|                Yes|      Two year|              No|        Mailed check|        107.45|      7576.7|   No|                  0.0|            0.0|               1.0|                 0.0|                  0.0|                    0.0|                   0.0|                 1.0|                     0.0|                0.0|                0.0|                    0.0|             0.0|                     1.0|                  3.0|         (2,[1],[1.0])|                (4,[0],[1.0])|          (2,[0],[1.0])|             (2,[1],[1.0])|               (2,[0],[1.0])|                (3,[0],[1.0])|                  (3,[0],[1.0])|                 (3,[0],[1.0])|               (3,[1],[1.0])|                   (3,[0],[1.0])|              (3,[0],[1.0])|              (3,[0],[1.0])|                  (3,[0],[1.0])|           (3,[0],[1.0])|                   (2,[1],[1.0])|                (4,[3],[1.0])|(48,[1,2,6,9,10,1...|          0.0|\n",
            "|8028-PNXHQ|          0.0|    Yes|       Yes|  62.0|         Yes|             Yes|             No|No internet service|No internet service|No internet service|No internet service|No internet service|No internet service|      Two year|             Yes|Bank transfer (au...|         24.25|      1424.6|   No|                  0.0|            0.0|               1.0|                 0.0|                  0.0|                    2.0|                   2.0|                 2.0|                     2.0|                2.0|                2.0|                    2.0|             0.0|                     0.0|                  0.0|         (2,[0],[1.0])|                (4,[0],[1.0])|          (2,[0],[1.0])|             (2,[1],[1.0])|               (2,[0],[1.0])|                (3,[0],[1.0])|                  (3,[2],[1.0])|                 (3,[2],[1.0])|               (3,[2],[1.0])|                   (3,[2],[1.0])|              (3,[2],[1.0])|              (3,[2],[1.0])|                  (3,[2],[1.0])|           (3,[0],[1.0])|                   (2,[0],[1.0])|                (4,[0],[1.0])|(48,[0,2,6,9,10,1...|          0.0|\n",
            "|8181-YHCMF|          0.0|    Yes|       Yes|  68.0|          No|No phone service|            DSL|                 No|                Yes|                Yes|                Yes|                Yes|                Yes|      Two year|              No|Credit card (auto...|          60.3|      4109.0|   No|                  0.0|            0.0|               1.0|                 1.0|                  2.0|                    1.0|                   1.0|                 0.0|                     0.0|                0.0|                0.0|                    0.0|             0.0|                     1.0|                  1.0|         (2,[1],[1.0])|                (4,[0],[1.0])|          (2,[0],[1.0])|             (2,[1],[1.0])|               (2,[1],[1.0])|                (3,[2],[1.0])|                  (3,[1],[1.0])|                 (3,[1],[1.0])|               (3,[0],[1.0])|                   (3,[0],[1.0])|              (3,[0],[1.0])|              (3,[0],[1.0])|                  (3,[0],[1.0])|           (3,[0],[1.0])|                   (2,[1],[1.0])|                (4,[1],[1.0])|(48,[1,2,6,9,11,1...|          0.0|\n",
            "|6734-PSBAW|          0.0|    Yes|        No|  72.0|         Yes|             Yes|             No|No internet service|No internet service|No internet service|No internet service|No internet service|No internet service|      Two year|             Yes|Bank transfer (au...|         23.55|     1723.95|   No|                  0.0|            0.0|               0.0|                 0.0|                  0.0|                    2.0|                   2.0|                 2.0|                     2.0|                2.0|                2.0|                    2.0|             0.0|                     0.0|                  0.0|         (2,[0],[1.0])|                (4,[0],[1.0])|          (2,[0],[1.0])|             (2,[0],[1.0])|               (2,[0],[1.0])|                (3,[0],[1.0])|                  (3,[2],[1.0])|                 (3,[2],[1.0])|               (3,[2],[1.0])|                   (3,[2],[1.0])|              (3,[2],[1.0])|              (3,[2],[1.0])|                  (3,[2],[1.0])|           (3,[0],[1.0])|                   (2,[0],[1.0])|                (4,[0],[1.0])|(48,[0,2,6,8,10,1...|          0.0|\n",
            "|3655-SNQYZ|          0.0|    Yes|       Yes|  69.0|         Yes|             Yes|    Fiber optic|                Yes|                Yes|                Yes|                Yes|                Yes|                Yes|      Two year|              No|Credit card (auto...|        113.25|     7895.15|   No|                  0.0|            0.0|               1.0|                 0.0|                  0.0|                    0.0|                   0.0|                 0.0|                     0.0|                0.0|                0.0|                    0.0|             0.0|                     1.0|                  1.0|         (2,[1],[1.0])|                (4,[0],[1.0])|          (2,[0],[1.0])|             (2,[1],[1.0])|               (2,[0],[1.0])|                (3,[0],[1.0])|                  (3,[0],[1.0])|                 (3,[0],[1.0])|               (3,[0],[1.0])|                   (3,[0],[1.0])|              (3,[0],[1.0])|              (3,[0],[1.0])|                  (3,[0],[1.0])|           (3,[0],[1.0])|                   (2,[1],[1.0])|                (4,[1],[1.0])|(48,[1,2,6,9,10,1...|          0.0|\n",
            "|9508-ILZDG|          1.0|     No|        No|  34.0|         Yes|             Yes|    Fiber optic|                 No|                Yes|                 No|                Yes|                Yes|                 No|Month-to-month|             Yes|    Electronic check|         96.35|     3190.25|   No|                  1.0|            1.0|               0.0|                 0.0|                  0.0|                    0.0|                   1.0|                 0.0|                     1.0|                0.0|                0.0|                    1.0|             1.0|                     0.0|                  2.0|         (2,[1],[1.0])|                (4,[1],[1.0])|          (2,[1],[1.0])|             (2,[0],[1.0])|               (2,[0],[1.0])|                (3,[0],[1.0])|                  (3,[0],[1.0])|                 (3,[1],[1.0])|               (3,[0],[1.0])|                   (3,[1],[1.0])|              (3,[0],[1.0])|              (3,[0],[1.0])|                  (3,[1],[1.0])|           (3,[1],[1.0])|                   (2,[0],[1.0])|                (4,[2],[1.0])|(48,[1,3,7,8,10,1...|          0.0|\n",
            "|3620-EHIMZ|          0.0|    Yes|       Yes|  52.0|         Yes|              No|             No|No internet service|No internet service|No internet service|No internet service|No internet service|No internet service|      Two year|              No|        Mailed check|         19.35|      1031.7|   No|                  0.0|            0.0|               1.0|                 0.0|                  1.0|                    2.0|                   2.0|                 2.0|                     2.0|                2.0|                2.0|                    2.0|             0.0|                     1.0|                  3.0|         (2,[1],[1.0])|                (4,[0],[1.0])|          (2,[0],[1.0])|             (2,[1],[1.0])|               (2,[0],[1.0])|                (3,[1],[1.0])|                  (3,[2],[1.0])|                 (3,[2],[1.0])|               (3,[2],[1.0])|                   (3,[2],[1.0])|              (3,[2],[1.0])|              (3,[2],[1.0])|                  (3,[2],[1.0])|           (3,[0],[1.0])|                   (2,[1],[1.0])|                (4,[3],[1.0])|(48,[1,2,6,9,10,1...|          0.0|\n",
            "|4178-EGMON|          0.0|    Yes|        No|  70.0|         Yes|             Yes|    Fiber optic|                Yes|                Yes|                 No|                Yes|                 No|                 No|      Two year|             Yes|Credit card (auto...|          88.0|     5986.45|   No|                  0.0|            0.0|               0.0|                 0.0|                  0.0|                    0.0|                   0.0|                 0.0|                     1.0|                0.0|                1.0|                    1.0|             0.0|                     0.0|                  1.0|         (2,[0],[1.0])|                (4,[0],[1.0])|          (2,[0],[1.0])|             (2,[0],[1.0])|               (2,[0],[1.0])|                (3,[0],[1.0])|                  (3,[0],[1.0])|                 (3,[0],[1.0])|               (3,[0],[1.0])|                   (3,[1],[1.0])|              (3,[0],[1.0])|              (3,[1],[1.0])|                  (3,[1],[1.0])|           (3,[0],[1.0])|                   (2,[0],[1.0])|                (4,[1],[1.0])|(48,[0,2,6,8,10,1...|          0.0|\n",
            "|0036-IHMOT|          0.0|    Yes|       Yes|  55.0|         Yes|              No|    Fiber optic|                 No|                Yes|                Yes|                Yes|                Yes|                Yes|      One year|             Yes|Bank transfer (au...|         103.7|     5656.75|   No|                  0.0|            0.0|               1.0|                 0.0|                  1.0|                    0.0|                   1.0|                 0.0|                     0.0|                0.0|                0.0|                    0.0|             2.0|                     0.0|                  0.0|         (2,[1],[1.0])|                (4,[0],[1.0])|          (2,[0],[1.0])|             (2,[1],[1.0])|               (2,[0],[1.0])|                (3,[1],[1.0])|                  (3,[0],[1.0])|                 (3,[1],[1.0])|               (3,[0],[1.0])|                   (3,[0],[1.0])|              (3,[0],[1.0])|              (3,[0],[1.0])|                  (3,[0],[1.0])|           (3,[2],[1.0])|                   (2,[0],[1.0])|                (4,[0],[1.0])|(48,[1,2,6,9,10,1...|          0.0|\n",
            "|0281-CNTZX|          0.0|    Yes|        No|  63.0|         Yes|              No|             No|No internet service|No internet service|No internet service|No internet service|No internet service|No internet service|      Two year|             Yes|Bank transfer (au...|         19.95|      1234.8|   No|                  0.0|            0.0|               0.0|                 0.0|                  1.0|                    2.0|                   2.0|                 2.0|                     2.0|                2.0|                2.0|                    2.0|             0.0|                     0.0|                  0.0|         (2,[0],[1.0])|                (4,[0],[1.0])|          (2,[0],[1.0])|             (2,[0],[1.0])|               (2,[0],[1.0])|                (3,[1],[1.0])|                  (3,[2],[1.0])|                 (3,[2],[1.0])|               (3,[2],[1.0])|                   (3,[2],[1.0])|              (3,[2],[1.0])|              (3,[2],[1.0])|                  (3,[2],[1.0])|           (3,[0],[1.0])|                   (2,[0],[1.0])|                (4,[0],[1.0])|(48,[0,2,6,8,10,1...|          0.0|\n",
            "|0530-IJVDB|          0.0|     No|       Yes|  70.0|         Yes|             Yes|    Fiber optic|                Yes|                Yes|                Yes|                Yes|                Yes|                Yes|      Two year|             Yes|    Electronic check|         114.6|      7882.5|   No|                  0.0|            1.0|               1.0|                 0.0|                  0.0|                    0.0|                   0.0|                 0.0|                     0.0|                0.0|                0.0|                    0.0|             0.0|                     0.0|                  2.0|         (2,[0],[1.0])|                (4,[0],[1.0])|          (2,[1],[1.0])|             (2,[1],[1.0])|               (2,[0],[1.0])|                (3,[0],[1.0])|                  (3,[0],[1.0])|                 (3,[0],[1.0])|               (3,[0],[1.0])|                   (3,[0],[1.0])|              (3,[0],[1.0])|              (3,[0],[1.0])|                  (3,[0],[1.0])|           (3,[0],[1.0])|                   (2,[0],[1.0])|                (4,[2],[1.0])|(48,[0,2,7,9,10,1...|          0.0|\n",
            "|7251-XFOIL|          0.0|     No|        No|  61.0|         Yes|             Yes|    Fiber optic|                 No|                 No|                Yes|                 No|                 No|                Yes|Month-to-month|              No|        Mailed check|          89.2|      5500.6|   No|                  0.0|            1.0|               0.0|                 0.0|                  0.0|                    0.0|                   1.0|                 1.0|                     0.0|                1.0|                1.0|                    0.0|             1.0|                     1.0|                  3.0|         (2,[1],[1.0])|                (4,[0],[1.0])|          (2,[1],[1.0])|             (2,[0],[1.0])|               (2,[0],[1.0])|                (3,[0],[1.0])|                  (3,[0],[1.0])|                 (3,[1],[1.0])|               (3,[1],[1.0])|                   (3,[0],[1.0])|              (3,[1],[1.0])|              (3,[1],[1.0])|                  (3,[0],[1.0])|           (3,[1],[1.0])|                   (2,[1],[1.0])|                (4,[3],[1.0])|(48,[1,2,7,8,10,1...|          0.0|\n",
            "|7079-QRCBC|          0.0|     No|        No|  24.0|         Yes|             Yes|    Fiber optic|                 No|                 No|                Yes|                 No|                Yes|                Yes|Month-to-month|             Yes|    Electronic check|         98.75|      2407.3|  Yes|                  0.0|            1.0|               0.0|                 0.0|                  0.0|                    0.0|                   1.0|                 1.0|                     0.0|                1.0|                0.0|                    0.0|             1.0|                     0.0|                  2.0|         (2,[1],[1.0])|                (4,[0],[1.0])|          (2,[1],[1.0])|             (2,[0],[1.0])|               (2,[0],[1.0])|                (3,[0],[1.0])|                  (3,[0],[1.0])|                 (3,[1],[1.0])|               (3,[1],[1.0])|                   (3,[0],[1.0])|              (3,[1],[1.0])|              (3,[0],[1.0])|                  (3,[0],[1.0])|           (3,[1],[1.0])|                   (2,[0],[1.0])|                (4,[2],[1.0])|(48,[1,2,7,8,10,1...|          1.0|\n",
            "|2908-ZTPNF|          0.0|     No|        No|  36.0|          No|No phone service|            DSL|                 No|                Yes|                 No|                Yes|                 No|                 No|Month-to-month|             Yes|Bank transfer (au...|         34.85|      1267.2|   No|                  0.0|            1.0|               0.0|                 1.0|                  2.0|                    1.0|                   1.0|                 0.0|                     1.0|                0.0|                1.0|                    1.0|             1.0|                     0.0|                  0.0|         (2,[1],[1.0])|                (4,[0],[1.0])|          (2,[1],[1.0])|             (2,[0],[1.0])|               (2,[1],[1.0])|                (3,[2],[1.0])|                  (3,[1],[1.0])|                 (3,[1],[1.0])|               (3,[0],[1.0])|                   (3,[1],[1.0])|              (3,[0],[1.0])|              (3,[1],[1.0])|                  (3,[1],[1.0])|           (3,[1],[1.0])|                   (2,[0],[1.0])|                (4,[0],[1.0])|(48,[1,2,7,8,11,1...|          0.0|\n",
            "|0640-YJTPY|          0.0|    Yes|       Yes|  72.0|         Yes|              No|             No|No internet service|No internet service|No internet service|No internet service|No internet service|No internet service|      Two year|              No|Bank transfer (au...|          21.0|     1493.75|   No|                  0.0|            0.0|               1.0|                 0.0|                  1.0|                    2.0|                   2.0|                 2.0|                     2.0|                2.0|                2.0|                    2.0|             0.0|                     1.0|                  0.0|         (2,[0],[1.0])|                (4,[0],[1.0])|          (2,[0],[1.0])|             (2,[1],[1.0])|               (2,[0],[1.0])|                (3,[1],[1.0])|                  (3,[2],[1.0])|                 (3,[2],[1.0])|               (3,[2],[1.0])|                   (3,[2],[1.0])|              (3,[2],[1.0])|              (3,[2],[1.0])|                  (3,[2],[1.0])|           (3,[0],[1.0])|                   (2,[1],[1.0])|                (4,[0],[1.0])|(48,[0,2,6,9,10,1...|          0.0|\n",
            "+----------+-------------+-------+----------+------+------------+----------------+---------------+-------------------+-------------------+-------------------+-------------------+-------------------+-------------------+--------------+----------------+--------------------+--------------+------------+-----+---------------------+---------------+------------------+--------------------+---------------------+-----------------------+----------------------+--------------------+------------------------+-------------------+-------------------+-----------------------+----------------+------------------------+---------------------+----------------------+-----------------------------+-----------------------+--------------------------+----------------------------+-----------------------------+-------------------------------+------------------------------+----------------------------+--------------------------------+---------------------------+---------------------------+-------------------------------+------------------------+--------------------------------+-----------------------------+--------------------+-------------+\n",
            "only showing top 20 rows\n",
            "\n"
          ]
        }
      ]
    },
    {
      "cell_type": "markdown",
      "source": [
        "# **(SeniorCitizen) ستون سوم**\n",
        "# در این ستون تعدادی داده پرت مشاهده می شود . این داده ها باید اصلاح شوند\n",
        "با توجه به اینکه بزرگتر از 1 هستند  آنها را یک قرار می دهیم"
      ],
      "metadata": {
        "id": "vYc_91-KSyk5"
      }
    },
    {
      "cell_type": "markdown",
      "source": [
        "# با توجه مقدار همبستگی  و نتایج زیر نیاز به حذف این ستون نیست"
      ],
      "metadata": {
        "id": "BZO0t8nUcKId"
      }
    },
    {
      "cell_type": "code",
      "source": [
        "MyCustomerInfo_tr.groupBy('SeniorCitizen','Label').count().show()"
      ],
      "metadata": {
        "colab": {
          "base_uri": "https://localhost:8080/"
        },
        "id": "Y8nnnVl5vYRH",
        "outputId": "085cab53-0c96-433d-ce50-9e71dfd61a45"
      },
      "execution_count": 91,
      "outputs": [
        {
          "output_type": "stream",
          "name": "stdout",
          "text": [
            "+-------------+-----+------+\n",
            "|SeniorCitizen|Label| count|\n",
            "+-------------+-----+------+\n",
            "|         14.0|   No|   548|\n",
            "|          1.0|  Yes| 10046|\n",
            "|         17.0|   No|     6|\n",
            "|         14.0|  Yes|   246|\n",
            "|          1.0|   No| 28139|\n",
            "|          0.0|  Yes| 23612|\n",
            "|          0.0|   No|167393|\n",
            "+-------------+-----+------+\n",
            "\n"
          ]
        }
      ]
    },
    {
      "cell_type": "code",
      "source": [
        "MyCustomerInfo_tr = MyCustomerInfo_tr.withColumn(\"SeniorCitizen\", when(col(\"SeniorCitizen\")>=1, 1).otherwise(0))\n",
        "MyCustomerInfo_tr.groupBy('SeniorCitizen','Label').count().show()\n",
        "print('corrolation between SeniorCitizen and Label:')\n",
        "MyCustomerInfo_tr.corr('SeniorCitizen_indexed','Label_indexed','pearson')"
      ],
      "metadata": {
        "colab": {
          "base_uri": "https://localhost:8080/"
        },
        "id": "ZZ884vMaT5A-",
        "outputId": "2f9a2dec-9af4-42a3-c16b-4b77f94b3ded"
      },
      "execution_count": 131,
      "outputs": [
        {
          "output_type": "stream",
          "name": "stdout",
          "text": [
            "+-------------+-----+------+\n",
            "|SeniorCitizen|Label| count|\n",
            "+-------------+-----+------+\n",
            "|            1|   No| 28693|\n",
            "|            0|   No|167393|\n",
            "|            0|  Yes| 23612|\n",
            "|            1|  Yes| 10292|\n",
            "+-------------+-----+------+\n",
            "\n",
            "corrolation between SeniorCitizen and Label:\n"
          ]
        },
        {
          "output_type": "execute_result",
          "data": {
            "text/plain": [
              "0.14788531816558"
            ]
          },
          "metadata": {},
          "execution_count": 131
        }
      ]
    },
    {
      "cell_type": "code",
      "source": [
        "import matplotlib.pyplot as plt\n",
        "\n",
        "citizen = MyCustomerInfo_tr.select(\"SeniorCitizen\").rdd.flatMap(lambda  x: x).collect()\n",
        "plt.hist(citizen)"
      ],
      "metadata": {
        "colab": {
          "base_uri": "https://localhost:8080/",
          "height": 340
        },
        "id": "2RQk5EeTdfxK",
        "outputId": "346ed71f-dd32-4e37-aabb-e95084e36d41"
      },
      "execution_count": 71,
      "outputs": [
        {
          "output_type": "execute_result",
          "data": {
            "text/plain": [
              "(array([191005.,      0.,      0.,      0.,      0.,      0.,      0.,\n",
              "             0.,      0.,  38985.]),\n",
              " array([0. , 0.1, 0.2, 0.3, 0.4, 0.5, 0.6, 0.7, 0.8, 0.9, 1. ]),\n",
              " <a list of 10 Patch objects>)"
            ]
          },
          "metadata": {},
          "execution_count": 71
        },
        {
          "output_type": "display_data",
          "data": {
            "text/plain": [
              "<Figure size 432x288 with 1 Axes>"
            ],
            "image/png": "[encoded data removed]"
          },
          "metadata": {}
        }
      ]
    },
    {
      "cell_type": "markdown",
      "source": [
        "# **(Partner) ستون چهارم**\n"
      ],
      "metadata": {
        "id": "4yy7CwVmWH1y"
      }
    },
    {
      "cell_type": "code",
      "source": [
        "MyCustomerInfo_tr.groupBy('Partner').count().show()\n",
        "MyCustomerInfo_tr.groupBy('Partner','Label').count().show()\n",
        "print('corrolation between Partner and Label:')\n",
        "MyCustomerInfo_tr.corr('Partner_indexed','Label_indexed','pearson')"
      ],
      "metadata": {
        "colab": {
          "base_uri": "https://localhost:8080/"
        },
        "id": "rl39ozRRW1O-",
        "outputId": "a43e600e-c267-41a7-f43c-a413635ab5ea"
      },
      "execution_count": 113,
      "outputs": [
        {
          "output_type": "stream",
          "name": "stdout",
          "text": [
            "+-------+------+\n",
            "|Partner| count|\n",
            "+-------+------+\n",
            "|     No| 85648|\n",
            "|    Yes|144342|\n",
            "+-------+------+\n",
            "\n",
            "+-------+-----+------+\n",
            "|Partner|Label| count|\n",
            "+-------+-----+------+\n",
            "|    Yes|  Yes| 18044|\n",
            "|     No|   No| 69788|\n",
            "|    Yes|   No|126298|\n",
            "|     No|  Yes| 15860|\n",
            "+-------+-----+------+\n",
            "\n",
            "corrolation between Partner and Label:\n"
          ]
        },
        {
          "output_type": "execute_result",
          "data": {
            "text/plain": [
              "0.08204854679463729"
            ]
          },
          "metadata": {},
          "execution_count": 113
        }
      ]
    },
    {
      "cell_type": "code",
      "source": [
        "import matplotlib.pyplot as plt\n",
        "\n",
        "partner = MyCustomerInfo_tr.select(\"Partner\",\"label\").rdd.flatMap(lambda  x: x).collect()\n",
        "plt.hist(partner)"
      ],
      "metadata": {
        "id": "5byJ3Ex-O-18",
        "outputId": "03ae72b3-c488-4c4e-8258-0ef346518cab",
        "colab": {
          "base_uri": "https://localhost:8080/",
          "height": 337
        }
      },
      "execution_count": 112,
      "outputs": [
        {
          "output_type": "execute_result",
          "data": {
            "text/plain": [
              "(array([178246.,      0.,      0.,      0.,      0.,      0.,      0.,\n",
              "             0.,      0., 281734.]),\n",
              " array([0. , 0.1, 0.2, 0.3, 0.4, 0.5, 0.6, 0.7, 0.8, 0.9, 1. ]),\n",
              " <a list of 10 Patch objects>)"
            ]
          },
          "metadata": {},
          "execution_count": 112
        },
        {
          "output_type": "display_data",
          "data": {
            "text/plain": [
              "<Figure size 432x288 with 1 Axes>"
            ],
            "image/png": "[encoded data removed]"
          },
          "metadata": {}
        }
      ]
    },
    {
      "cell_type": "markdown",
      "source": [
        "# **(ِDependent) ستون پنجم**"
      ],
      "metadata": {
        "id": "GJm_2lAngQee"
      }
    },
    {
      "cell_type": "markdown",
      "source": [
        "از جدول زیر اینطور استنباط می شود که این فاکتور در مقدار لیبل موثر است تعداد زیادی از برچسب ها متناسب با مقدار این فاکتور هستند"
      ],
      "metadata": {
        "id": "W7xBBQ20UsfK"
      }
    },
    {
      "cell_type": "code",
      "source": [
        "MyCustomerInfo_tr.groupBy('Dependents').count().show()\n",
        "MyCustomerInfo_tr.groupBy('Dependents','Label').count().show()\n",
        "print('corrolation between Dependent and Label:')\n",
        "MyCustomerInfo_tr.corr('Dependents_indexed','Label_indexed','pearson')"
      ],
      "metadata": {
        "colab": {
          "base_uri": "https://localhost:8080/"
        },
        "id": "RrcNLLdkgPtt",
        "outputId": "a34a20d1-3a0a-489c-b643-10d4f750a011"
      },
      "execution_count": 115,
      "outputs": [
        {
          "output_type": "stream",
          "name": "stdout",
          "text": [
            "+----------+------+\n",
            "|Dependents| count|\n",
            "+----------+------+\n",
            "|        No|148232|\n",
            "|       Yes| 81758|\n",
            "+----------+------+\n",
            "\n",
            "+----------+-----+------+\n",
            "|Dependents|Label| count|\n",
            "+----------+-----+------+\n",
            "|       Yes|  Yes|  7264|\n",
            "|        No|   No|121592|\n",
            "|       Yes|   No| 74494|\n",
            "|        No|  Yes| 26640|\n",
            "+----------+-----+------+\n",
            "\n",
            "corrolation between Dependent and Label:\n"
          ]
        },
        {
          "output_type": "execute_result",
          "data": {
            "text/plain": [
              "-0.12269058784498946"
            ]
          },
          "metadata": {},
          "execution_count": 115
        }
      ]
    },
    {
      "cell_type": "markdown",
      "source": [
        "# **(ِtenure) ستون ششم**"
      ],
      "metadata": {
        "id": "KlHvrxG7jPNS"
      }
    },
    {
      "cell_type": "markdown",
      "source": [
        "به نظر می رسد که داده های منفی پرت هستند.\n",
        "آن ها را با میانگین جایگزین میکنیم"
      ],
      "metadata": {
        "id": "B7L60iyFWhCn"
      }
    },
    {
      "cell_type": "code",
      "source": [
        "MyCustomerInfo_tr.groupBy('tenure','Label').count().show()\n"
      ],
      "metadata": {
        "colab": {
          "base_uri": "https://localhost:8080/"
        },
        "id": "zQvjzTsFi5t7",
        "outputId": "6f928ef3-a14d-4744-be86-9ca46a799473"
      },
      "execution_count": 132,
      "outputs": [
        {
          "output_type": "stream",
          "name": "stdout",
          "text": [
            "+------+-----+-----+\n",
            "|tenure|Label|count|\n",
            "+------+-----+-----+\n",
            "|  24.0|  Yes|  552|\n",
            "|-592.0|   No|   16|\n",
            "|  69.0|   No| 6003|\n",
            "|-585.0|   No|   30|\n",
            "|  51.0|  Yes|  408|\n",
            "|-593.0|  Yes|   14|\n",
            "|  47.0|   No| 2538|\n",
            "|-584.0|   No|   32|\n",
            "|  15.0|   No|  915|\n",
            "|  21.0|  Yes|  357|\n",
            "|  41.0|  Yes|  574|\n",
            "|  58.0|   No| 3306|\n",
            "|  63.0|   No| 4284|\n",
            "|  63.0|  Yes|  252|\n",
            "|  59.0|   No| 3068|\n",
            "|  14.0|  Yes|  336|\n",
            "|  39.0|   No| 1638|\n",
            "|  36.0|  Yes|  360|\n",
            "|  66.0|   No| 5019|\n",
            "|  18.0|  Yes|  432|\n",
            "+------+-----+-----+\n",
            "only showing top 20 rows\n",
            "\n",
            "corrolation between tenure and Label:\n"
          ]
        },
        {
          "output_type": "execute_result",
          "data": {
            "text/plain": [
              "-0.12676387947366066"
            ]
          },
          "metadata": {},
          "execution_count": 132
        }
      ]
    },
    {
      "cell_type": "code",
      "source": [
        "MyCustomerInfo_tr = MyCustomerInfo_tr.withColumn(\"tenure\", when(col(\"tenure\")<=0, mean_Tenure).otherwise(col(\"tenure\")))"
      ],
      "metadata": {
        "id": "yeUmGX0BWQTD"
      },
      "execution_count": 133,
      "outputs": []
    },
    {
      "cell_type": "code",
      "source": [
        "MyCustomerInfo_tr =MyCustomerInfo_tr.withColumn(\"tenure\",MyCustomerInfo_tr['tenure'].cast('float'))"
      ],
      "metadata": {
        "id": "aBVw8wRMYyd9"
      },
      "execution_count": 137,
      "outputs": []
    },
    {
      "cell_type": "code",
      "source": [
        "MyCustomerInfo_tr.groupBy('tenure','Label').count().show()\n",
        "print('corrolation between tenure and Label:')\n",
        "MyCustomerInfo_tr.corr('tenure','Label_indexed','pearson')"
      ],
      "metadata": {
        "id": "yM-9ScdiYdqL",
        "outputId": "d9f61885-80d1-4149-83b6-58d8d6f5de01",
        "colab": {
          "base_uri": "https://localhost:8080/"
        }
      },
      "execution_count": 139,
      "outputs": [
        {
          "output_type": "stream",
          "name": "stdout",
          "text": [
            "+------+-----+-----+\n",
            "|tenure|Label|count|\n",
            "+------+-----+-----+\n",
            "|  24.0|  Yes|  552|\n",
            "|  69.0|   No| 6003|\n",
            "|  51.0|  Yes|  408|\n",
            "|  47.0|   No| 2538|\n",
            "|  15.0|   No|  915|\n",
            "|  21.0|  Yes|  357|\n",
            "|  41.0|  Yes|  574|\n",
            "|  58.0|   No| 3306|\n",
            "|  63.0|   No| 4284|\n",
            "|  63.0|  Yes|  252|\n",
            "|  59.0|   No| 3068|\n",
            "|  14.0|  Yes|  336|\n",
            "|  39.0|   No| 1638|\n",
            "|  36.0|  Yes|  360|\n",
            "|  66.0|   No| 5019|\n",
            "|  18.0|  Yes|  432|\n",
            "|  34.0|   No| 1802|\n",
            "|  68.0|  Yes|  680|\n",
            "|  22.0|  Yes|  594|\n",
            "|  14.0|   No|  714|\n",
            "+------+-----+-----+\n",
            "only showing top 20 rows\n",
            "\n",
            "corrolation between tenure and Label:\n"
          ]
        },
        {
          "output_type": "execute_result",
          "data": {
            "text/plain": [
              "-0.2561566998567579"
            ]
          },
          "metadata": {},
          "execution_count": 139
        }
      ]
    },
    {
      "cell_type": "markdown",
      "source": [
        "# **(ِPhoneService) ستون هفتم**"
      ],
      "metadata": {
        "id": "uTiBj4GBl9fZ"
      }
    },
    {
      "cell_type": "code",
      "source": [
        "MyCustomerInfo_tr.groupBy('PhoneService','Label').count().show()\n",
        "print('corrolation between PhoneService and Label:')\n",
        "MyCustomerInfo_tr.corr('PhoneService_indexed','Label_indexed','pearson')"
      ],
      "metadata": {
        "colab": {
          "base_uri": "https://localhost:8080/"
        },
        "id": "10vKKmWMmGIO",
        "outputId": "601ca03d-4c14-441a-dbcc-f6aba44ad5c5"
      },
      "execution_count": 140,
      "outputs": [
        {
          "output_type": "stream",
          "name": "stdout",
          "text": [
            "+------------+-----+------+\n",
            "|PhoneService|Label| count|\n",
            "+------------+-----+------+\n",
            "|         Yes|  Yes| 31196|\n",
            "|          No|   No| 19109|\n",
            "|         Yes|   No|176977|\n",
            "|          No|  Yes|  2708|\n",
            "+------------+-----+------+\n",
            "\n",
            "corrolation between MultipleLines and Label:\n"
          ]
        },
        {
          "output_type": "execute_result",
          "data": {
            "text/plain": [
              "-0.021268995159031242"
            ]
          },
          "metadata": {},
          "execution_count": 140
        }
      ]
    },
    {
      "cell_type": "markdown",
      "source": [
        "# **(ِMultipleLines) ستون هشتم**"
      ],
      "metadata": {
        "id": "RaoEWTBObAxk"
      }
    },
    {
      "cell_type": "code",
      "source": [
        "MyCustomerInfo_tr.groupBy('MultipleLines','Label').count().show()\n",
        "print('corrolation between MultipleLines and Label:')\n",
        "MyCustomerInfo_tr.corr('MultipleLines_indexed','Label_indexed','pearson')"
      ],
      "metadata": {
        "id": "1chhU4Nla_5Q",
        "outputId": "0d2489f7-24cb-412e-a29c-e2493597add3",
        "colab": {
          "base_uri": "https://localhost:8080/"
        }
      },
      "execution_count": 141,
      "outputs": [
        {
          "output_type": "stream",
          "name": "stdout",
          "text": [
            "+----------------+-----+------+\n",
            "|   MultipleLines|Label| count|\n",
            "+----------------+-----+------+\n",
            "|No phone service|   No| 19110|\n",
            "|             Yes|  Yes| 22182|\n",
            "|              No|   No| 73492|\n",
            "|             Yes|   No|103484|\n",
            "|No phone service|  Yes|  2707|\n",
            "|              No|  Yes|  9015|\n",
            "+----------------+-----+------+\n",
            "\n",
            "corrolation between MultipleLines and Label:\n"
          ]
        },
        {
          "output_type": "execute_result",
          "data": {
            "text/plain": [
              "-0.07725986644163231"
            ]
          },
          "metadata": {},
          "execution_count": 141
        }
      ]
    },
    {
      "cell_type": "markdown",
      "source": [
        "# **(ِInternetService) ستون نهم**"
      ],
      "metadata": {
        "id": "j-c8UUpLbbW_"
      }
    },
    {
      "cell_type": "code",
      "source": [
        "MyCustomerInfo_tr.groupBy('InternetService','Label').count().show()\n",
        "print('corrolation between InternetService and Label:')\n",
        "MyCustomerInfo_tr.corr('InternetService_indexed','Label_indexed','pearson')"
      ],
      "metadata": {
        "id": "vXQUfG0zbo3h",
        "outputId": "1793dde8-0958-4a57-fe1c-a36bf593b6ec",
        "colab": {
          "base_uri": "https://localhost:8080/"
        }
      },
      "execution_count": 142,
      "outputs": [
        {
          "output_type": "stream",
          "name": "stdout",
          "text": [
            "+---------------+-----+-----+\n",
            "|InternetService|Label|count|\n",
            "+---------------+-----+-----+\n",
            "|            DSL|  Yes| 6513|\n",
            "|    Fiber optic|  Yes|26459|\n",
            "|             No|   No|45985|\n",
            "|    Fiber optic|   No|76491|\n",
            "|             No|  Yes|  932|\n",
            "|            DSL|   No|73610|\n",
            "+---------------+-----+-----+\n",
            "\n",
            "corrolation between InternetService and Label:\n"
          ]
        },
        {
          "output_type": "execute_result",
          "data": {
            "text/plain": [
              "-0.27517341751687435"
            ]
          },
          "metadata": {},
          "execution_count": 142
        }
      ]
    },
    {
      "cell_type": "markdown",
      "source": [
        "# **Logistic Regression الگوریتم**"
      ],
      "metadata": {
        "id": "wLkEocNrLicJ"
      }
    },
    {
      "cell_type": "markdown",
      "source": [
        "دیتافریم جدیدی از دیتافریم قبلی ایجاد کرده و ستونهای مورد نیاز برای آموزش  و تست را در بردارد."
      ],
      "metadata": {
        "id": "Tdr0SyGmLqg1"
      }
    },
    {
      "cell_type": "code",
      "source": [
        "MyCustomerInfo2 = MyCustomerInfo_tr.select('customerID','features','Label_indexed')\n",
        "MyCustomerInfo2 = MyCustomerInfo2.withColumnRenamed('Label_indexed','label')\n",
        "MyCustomerInfo2.na.drop()\n",
        "MyCustomerInfo2.show(50)"
      ],
      "metadata": {
        "id": "75B5QxWnaJw5",
        "outputId": "c5dfc85c-2422-42c5-b5bd-c8a30e87dab0",
        "colab": {
          "base_uri": "https://localhost:8080/"
        }
      },
      "execution_count": 143,
      "outputs": [
        {
          "output_type": "stream",
          "name": "stdout",
          "text": [
            "+----------+--------------------+-----+\n",
            "|customerID|            features|label|\n",
            "+----------+--------------------+-----+\n",
            "|5331-RGMTT|(48,[0,3,6,8,10,1...|  0.0|\n",
            "|5161-XEUVX|(48,[0,2,6,8,10,1...|  0.0|\n",
            "|0336-PIKEI|(48,[0,3,6,8,10,1...|  0.0|\n",
            "|3345-PBBFH|(48,[0,2,6,8,10,1...|  0.0|\n",
            "|5067-XJQFU|(48,[0,3,6,9,10,1...|  0.0|\n",
            "|4056-QHXHZ|(48,[1,2,6,9,10,1...|  0.0|\n",
            "|8028-PNXHQ|(48,[0,2,6,9,10,1...|  0.0|\n",
            "|8181-YHCMF|(48,[1,2,6,9,11,1...|  0.0|\n",
            "|6734-PSBAW|(48,[0,2,6,8,10,1...|  0.0|\n",
            "|3655-SNQYZ|(48,[1,2,6,9,10,1...|  0.0|\n",
            "|9508-ILZDG|(48,[1,3,7,8,10,1...|  0.0|\n",
            "|3620-EHIMZ|(48,[1,2,6,9,10,1...|  0.0|\n",
            "|4178-EGMON|(48,[0,2,6,8,10,1...|  0.0|\n",
            "|0036-IHMOT|(48,[1,2,6,9,10,1...|  0.0|\n",
            "|0281-CNTZX|(48,[0,2,6,8,10,1...|  0.0|\n",
            "|0530-IJVDB|(48,[0,2,7,9,10,1...|  0.0|\n",
            "|7251-XFOIL|(48,[1,2,7,8,10,1...|  0.0|\n",
            "|7079-QRCBC|(48,[1,2,7,8,10,1...|  1.0|\n",
            "|2908-ZTPNF|(48,[1,2,7,8,11,1...|  0.0|\n",
            "|0640-YJTPY|(48,[0,2,6,9,10,1...|  0.0|\n",
            "|6147-CBCRA|(48,[1,2,6,8,10,1...|  0.0|\n",
            "|3259-KNMRR|(48,[0,3,7,8,10,1...|  0.0|\n",
            "|1925-LFCZZ|(48,[0,3,7,8,11,1...|  0.0|\n",
            "|9281-OFDMF|(48,[0,3,7,8,10,1...|  0.0|\n",
            "|7921-BEPCI|(48,[1,2,7,8,10,1...|  0.0|\n",
            "|9378-FXTIZ|(48,[1,2,6,8,10,1...|  1.0|\n",
            "|5136-KCKGI|(48,[1,2,6,9,10,1...|  1.0|\n",
            "|2207-QPJED|(48,[1,3,6,8,10,1...|  0.0|\n",
            "|1536-YHDOE|(48,[0,2,6,9,10,1...|  0.0|\n",
            "|1984-FCOWB|(48,[1,2,6,8,10,1...|  1.0|\n",
            "|1898-JSNDC|(48,[1,2,7,8,10,1...|  0.0|\n",
            "|9079-YEXQJ|(48,[1,2,7,8,10,1...|  1.0|\n",
            "|2569-WGERO|(48,[1,2,7,8,10,1...|  0.0|\n",
            "|9509-MPYOD|(48,[1,2,7,8,10,1...|  0.0|\n",
            "|2996-XAUVF|(48,[0,2,7,8,11,1...|  0.0|\n",
            "|2636-SJDOU|(48,[0,2,7,8,10,1...|  0.0|\n",
            "|0701-RFGFI|(48,[1,2,6,9,10,1...|  0.0|\n",
            "|6080-LNESI|(48,[0,2,7,8,10,1...|  0.0|\n",
            "|8587-XYZSF|(48,[0,2,7,8,10,1...|  0.0|\n",
            "|1043-UXOVO|(48,[1,2,7,8,10,1...|  0.0|\n",
            "|7102-JJVTX|(48,[1,2,6,9,10,1...|  0.0|\n",
            "|3071-MVJCD|(48,[0,2,6,9,10,1...|  0.0|\n",
            "|6131-IUNXN|(48,[1,2,6,9,10,1...|  0.0|\n",
            "|7795-CFOCW|(48,[0,2,7,8,11,1...|  0.0|\n",
            "|2430-USGXP|(48,[0,2,6,8,10,1...|  1.0|\n",
            "|0487-RPVUM|(48,[0,2,6,8,10,1...|  0.0|\n",
            "|4654-DLAMQ|(48,[1,3,6,8,10,1...|  0.0|\n",
            "|7114-AEOZE|(48,[1,2,7,8,10,1...|  0.0|\n",
            "|6283-GITPX|(48,[0,2,7,9,10,1...|  0.0|\n",
            "|5022-JNQEQ|(48,[1,2,6,9,10,1...|  0.0|\n",
            "+----------+--------------------+-----+\n",
            "only showing top 50 rows\n",
            "\n"
          ]
        }
      ]
    },
    {
      "cell_type": "code",
      "source": [
        "from pyspark.ml.classification import LogisticRegression\n",
        "\n",
        "train_data , test_data = MyCustomerInfo2.randomSplit([0.7,.3],seed=200)\n",
        "log_reg = LogisticRegression(featuresCol='features',labelCol='label')\n",
        "fit_model = log_reg.fit(train_data)\n",
        "results = fit_model.transform(test_data)"
      ],
      "metadata": {
        "id": "L4lRkRNK9qnD"
      },
      "execution_count": 144,
      "outputs": []
    },
    {
      "cell_type": "code",
      "source": [
        "results.show()"
      ],
      "metadata": {
        "id": "r8Imx9HDb-9_",
        "outputId": "c273df1a-e137-493b-87b8-0074a8dacf4c",
        "colab": {
          "base_uri": "https://localhost:8080/"
        }
      },
      "execution_count": 103,
      "outputs": [
        {
          "output_type": "stream",
          "name": "stdout",
          "text": [
            "+----------+--------------------+-----+--------------------+--------------------+----------+\n",
            "|customerID|            features|label|       rawPrediction|         probability|prediction|\n",
            "+----------+--------------------+-----+--------------------+--------------------+----------+\n",
            "|      null|(47,[0,2,6,8,10,1...|  0.0|[4.20240678706489...|[0.98526096003936...|       0.0|\n",
            "|      null|(47,[0,2,6,8,10,1...|  0.0|[5.64276210134641...|[0.99646944045063...|       0.0|\n",
            "|      null|(47,[0,2,6,8,10,1...|  0.0|[5.75521478992064...|[0.99684376688432...|       0.0|\n",
            "|      null|(47,[0,2,6,8,10,1...|  0.0|[5.82122475886831...|[0.99704478640371...|       0.0|\n",
            "|      null|(47,[0,2,6,8,10,1...|  0.0|[5.86071506324827...|[0.99715888931656...|       0.0|\n",
            "|      null|(47,[0,2,6,8,10,1...|  0.0|[5.19932859829949...|[0.99451003658243...|       0.0|\n",
            "|      null|(47,[0,2,6,8,10,1...|  0.0|[5.08818825166994...|[0.99386863873073...|       0.0|\n",
            "|      null|(47,[0,2,6,8,10,1...|  0.0|[5.32276703902934...|[0.99514445733071...|       0.0|\n",
            "|      null|(47,[0,2,6,8,10,1...|  0.0|[5.87006026959061...|[0.99718524202064...|       0.0|\n",
            "|      null|(47,[0,2,6,9,10,1...|  0.0|[4.90038383357489...|[0.99261127427434...|       0.0|\n",
            "|      null|(47,[0,2,6,9,10,1...|  0.0|[4.89897060204366...|[0.99260090222807...|       0.0|\n",
            "|      null|(47,[0,2,6,9,10,1...|  0.0|[5.33760692936252...|[0.99521563884163...|       0.0|\n",
            "|      null|(47,[0,2,6,9,10,1...|  0.0|[4.95346740557674...|[0.99299058825949...|       0.0|\n",
            "|      null|(47,[0,2,6,9,10,1...|  0.0|[6.02223987877924...|[0.99758162917561...|       0.0|\n",
            "|      null|(47,[0,2,6,9,11,1...|  0.0|[4.98595736995094...|[0.99321314321050...|       0.0|\n",
            "|      null|(47,[0,2,6,9,11,1...|  1.0|[-2.8051026033365...|[0.05704906285623...|       1.0|\n",
            "|      null|(47,[0,2,7,8,10,1...|  1.0|[-3.5154430218071...|[0.02887600957507...|       1.0|\n",
            "|      null|(47,[0,2,7,8,10,1...|  0.0|[4.30126472870088...|[0.98662977606383...|       0.0|\n",
            "|      null|(47,[0,2,7,8,10,1...|  0.0|[5.24981360718438...|[0.99477890630239...|       0.0|\n",
            "|      null|(47,[0,2,7,8,10,1...|  0.0|[5.44944368449222...|[0.99571970423134...|       0.0|\n",
            "+----------+--------------------+-----+--------------------+--------------------+----------+\n",
            "only showing top 20 rows\n",
            "\n"
          ]
        }
      ]
    },
    {
      "cell_type": "code",
      "source": [
        "from pyspark.ml.evaluation import BinaryClassificationEvaluator\n",
        "my_eval = BinaryClassificationEvaluator(rawPredictionCol='prediction',\n",
        "                                       labelCol='label')\n",
        "results.select('label','prediction')\n",
        "accuracy = my_eval.evaluate(results)\n",
        "print(\"accuracy is : \",accuracy)"
      ],
      "metadata": {
        "colab": {
          "base_uri": "https://localhost:8080/"
        },
        "id": "Kr4_rcNA_N_Q",
        "outputId": "468819f4-4c06-46b4-810a-4c8065d17151"
      },
      "execution_count": 145,
      "outputs": [
        {
          "output_type": "stream",
          "name": "stdout",
          "text": [
            "accuracy is :  0.618722297478557\n"
          ]
        }
      ]
    },
    {
      "cell_type": "markdown",
      "source": [
        " MultipleLines|InternetService|     OnlineSecurity|       OnlineBackup|   DeviceProtection|        TechSupport|        StreamingTV|    StreamingMovies|      Contract|PaperlessBilling|       PaymentMethod|MonthlyCharges|TotalCharges"
      ],
      "metadata": {
        "id": "VYQur8vRmE1f"
      }
    },
    {
      "cell_type": "code",
      "source": [
        "import matplotlib.pyplot as plt\n",
        "import seaborn as sns\n",
        "# cchart for distribution of target variable\n",
        "\n",
        "sns.countplot (x =\"Label\", data = MyCustomerInfo)"
      ],
      "metadata": {
        "colab": {
          "base_uri": "https://localhost:8080/",
          "height": 347
        },
        "id": "A2OfzlgjOlnv",
        "outputId": "12ceef9d-e903-4920-ca4b-92008f7229e7"
      },
      "execution_count": 112,
      "outputs": [
        {
          "output_type": "error",
          "ename": "AttributeError",
          "evalue": "ignored",
          "traceback": [
            "\u001b[0;31m---------------------------------------------------------------------------\u001b[0m",
            "\u001b[0;31mAttributeError\u001b[0m                            Traceback (most recent call last)",
            "\u001b[0;32m<ipython-input-112-f8534f011365>\u001b[0m in \u001b[0;36m<module>\u001b[0;34m()\u001b[0m\n\u001b[1;32m      2\u001b[0m \u001b[0;32mimport\u001b[0m \u001b[0mseaborn\u001b[0m \u001b[0;32mas\u001b[0m \u001b[0msns\u001b[0m\u001b[0;34m\u001b[0m\u001b[0;34m\u001b[0m\u001b[0m\n\u001b[1;32m      3\u001b[0m \u001b[0;31m# cchart for distribution of target variable\u001b[0m\u001b[0;34m\u001b[0m\u001b[0;34m\u001b[0m\u001b[0;34m\u001b[0m\u001b[0m\n\u001b[0;32m----> 4\u001b[0;31m \u001b[0msns\u001b[0m\u001b[0;34m.\u001b[0m\u001b[0mcountplot\u001b[0m \u001b[0;34m(\u001b[0m\u001b[0mx\u001b[0m \u001b[0;34m=\u001b[0m\u001b[0;34m\"Label\"\u001b[0m\u001b[0;34m,\u001b[0m \u001b[0mdata\u001b[0m \u001b[0;34m=\u001b[0m \u001b[0mMyCustomerInfo\u001b[0m\u001b[0;34m)\u001b[0m\u001b[0;34m\u001b[0m\u001b[0;34m\u001b[0m\u001b[0m\n\u001b[0m",
            "\u001b[0;32m/usr/local/lib/python3.7/dist-packages/seaborn/_decorators.py\u001b[0m in \u001b[0;36minner_f\u001b[0;34m(*args, **kwargs)\u001b[0m\n\u001b[1;32m     44\u001b[0m             )\n\u001b[1;32m     45\u001b[0m         \u001b[0mkwargs\u001b[0m\u001b[0;34m.\u001b[0m\u001b[0mupdate\u001b[0m\u001b[0;34m(\u001b[0m\u001b[0;34m{\u001b[0m\u001b[0mk\u001b[0m\u001b[0;34m:\u001b[0m \u001b[0marg\u001b[0m \u001b[0;32mfor\u001b[0m \u001b[0mk\u001b[0m\u001b[0;34m,\u001b[0m \u001b[0marg\u001b[0m \u001b[0;32min\u001b[0m \u001b[0mzip\u001b[0m\u001b[0;34m(\u001b[0m\u001b[0msig\u001b[0m\u001b[0;34m.\u001b[0m\u001b[0mparameters\u001b[0m\u001b[0;34m,\u001b[0m \u001b[0margs\u001b[0m\u001b[0;34m)\u001b[0m\u001b[0;34m}\u001b[0m\u001b[0;34m)\u001b[0m\u001b[0;34m\u001b[0m\u001b[0;34m\u001b[0m\u001b[0m\n\u001b[0;32m---> 46\u001b[0;31m         \u001b[0;32mreturn\u001b[0m \u001b[0mf\u001b[0m\u001b[0;34m(\u001b[0m\u001b[0;34m**\u001b[0m\u001b[0mkwargs\u001b[0m\u001b[0;34m)\u001b[0m\u001b[0;34m\u001b[0m\u001b[0;34m\u001b[0m\u001b[0m\n\u001b[0m\u001b[1;32m     47\u001b[0m     \u001b[0;32mreturn\u001b[0m \u001b[0minner_f\u001b[0m\u001b[0;34m\u001b[0m\u001b[0;34m\u001b[0m\u001b[0m\n\u001b[1;32m     48\u001b[0m \u001b[0;34m\u001b[0m\u001b[0m\n",
            "\u001b[0;32m/usr/local/lib/python3.7/dist-packages/seaborn/categorical.py\u001b[0m in \u001b[0;36mcountplot\u001b[0;34m(x, y, hue, data, order, hue_order, orient, color, palette, saturation, dodge, ax, **kwargs)\u001b[0m\n\u001b[1;32m   3600\u001b[0m         \u001b[0mestimator\u001b[0m\u001b[0;34m,\u001b[0m \u001b[0mci\u001b[0m\u001b[0;34m,\u001b[0m \u001b[0mn_boot\u001b[0m\u001b[0;34m,\u001b[0m \u001b[0munits\u001b[0m\u001b[0;34m,\u001b[0m \u001b[0mseed\u001b[0m\u001b[0;34m,\u001b[0m\u001b[0;34m\u001b[0m\u001b[0;34m\u001b[0m\u001b[0m\n\u001b[1;32m   3601\u001b[0m         \u001b[0morient\u001b[0m\u001b[0;34m,\u001b[0m \u001b[0mcolor\u001b[0m\u001b[0;34m,\u001b[0m \u001b[0mpalette\u001b[0m\u001b[0;34m,\u001b[0m \u001b[0msaturation\u001b[0m\u001b[0;34m,\u001b[0m\u001b[0;34m\u001b[0m\u001b[0;34m\u001b[0m\u001b[0m\n\u001b[0;32m-> 3602\u001b[0;31m         \u001b[0merrcolor\u001b[0m\u001b[0;34m,\u001b[0m \u001b[0merrwidth\u001b[0m\u001b[0;34m,\u001b[0m \u001b[0mcapsize\u001b[0m\u001b[0;34m,\u001b[0m \u001b[0mdodge\u001b[0m\u001b[0;34m\u001b[0m\u001b[0;34m\u001b[0m\u001b[0m\n\u001b[0m\u001b[1;32m   3603\u001b[0m     )\n\u001b[1;32m   3604\u001b[0m \u001b[0;34m\u001b[0m\u001b[0m\n",
            "\u001b[0;32m/usr/local/lib/python3.7/dist-packages/seaborn/categorical.py\u001b[0m in \u001b[0;36m__init__\u001b[0;34m(self, x, y, hue, data, order, hue_order, estimator, ci, n_boot, units, seed, orient, color, palette, saturation, errcolor, errwidth, capsize, dodge)\u001b[0m\n\u001b[1;32m   1583\u001b[0m         \u001b[0;34m\"\"\"Initialize the plotter.\"\"\"\u001b[0m\u001b[0;34m\u001b[0m\u001b[0;34m\u001b[0m\u001b[0m\n\u001b[1;32m   1584\u001b[0m         self.establish_variables(x, y, hue, data, orient,\n\u001b[0;32m-> 1585\u001b[0;31m                                  order, hue_order, units)\n\u001b[0m\u001b[1;32m   1586\u001b[0m         \u001b[0mself\u001b[0m\u001b[0;34m.\u001b[0m\u001b[0mestablish_colors\u001b[0m\u001b[0;34m(\u001b[0m\u001b[0mcolor\u001b[0m\u001b[0;34m,\u001b[0m \u001b[0mpalette\u001b[0m\u001b[0;34m,\u001b[0m \u001b[0msaturation\u001b[0m\u001b[0;34m)\u001b[0m\u001b[0;34m\u001b[0m\u001b[0;34m\u001b[0m\u001b[0m\n\u001b[1;32m   1587\u001b[0m         \u001b[0mself\u001b[0m\u001b[0;34m.\u001b[0m\u001b[0mestimate_statistic\u001b[0m\u001b[0;34m(\u001b[0m\u001b[0mestimator\u001b[0m\u001b[0;34m,\u001b[0m \u001b[0mci\u001b[0m\u001b[0;34m,\u001b[0m \u001b[0mn_boot\u001b[0m\u001b[0;34m,\u001b[0m \u001b[0mseed\u001b[0m\u001b[0;34m)\u001b[0m\u001b[0;34m\u001b[0m\u001b[0;34m\u001b[0m\u001b[0m\n",
            "\u001b[0;32m/usr/local/lib/python3.7/dist-packages/seaborn/categorical.py\u001b[0m in \u001b[0;36mestablish_variables\u001b[0;34m(self, x, y, hue, data, orient, order, hue_order, units)\u001b[0m\n\u001b[1;32m    142\u001b[0m             \u001b[0;31m# See if we need to get variables from `data`\u001b[0m\u001b[0;34m\u001b[0m\u001b[0;34m\u001b[0m\u001b[0;34m\u001b[0m\u001b[0m\n\u001b[1;32m    143\u001b[0m             \u001b[0;32mif\u001b[0m \u001b[0mdata\u001b[0m \u001b[0;32mis\u001b[0m \u001b[0;32mnot\u001b[0m \u001b[0;32mNone\u001b[0m\u001b[0;34m:\u001b[0m\u001b[0;34m\u001b[0m\u001b[0;34m\u001b[0m\u001b[0m\n\u001b[0;32m--> 144\u001b[0;31m                 \u001b[0mx\u001b[0m \u001b[0;34m=\u001b[0m \u001b[0mdata\u001b[0m\u001b[0;34m.\u001b[0m\u001b[0mget\u001b[0m\u001b[0;34m(\u001b[0m\u001b[0mx\u001b[0m\u001b[0;34m,\u001b[0m \u001b[0mx\u001b[0m\u001b[0;34m)\u001b[0m\u001b[0;34m\u001b[0m\u001b[0;34m\u001b[0m\u001b[0m\n\u001b[0m\u001b[1;32m    145\u001b[0m                 \u001b[0my\u001b[0m \u001b[0;34m=\u001b[0m \u001b[0mdata\u001b[0m\u001b[0;34m.\u001b[0m\u001b[0mget\u001b[0m\u001b[0;34m(\u001b[0m\u001b[0my\u001b[0m\u001b[0;34m,\u001b[0m \u001b[0my\u001b[0m\u001b[0;34m)\u001b[0m\u001b[0;34m\u001b[0m\u001b[0;34m\u001b[0m\u001b[0m\n\u001b[1;32m    146\u001b[0m                 \u001b[0mhue\u001b[0m \u001b[0;34m=\u001b[0m \u001b[0mdata\u001b[0m\u001b[0;34m.\u001b[0m\u001b[0mget\u001b[0m\u001b[0;34m(\u001b[0m\u001b[0mhue\u001b[0m\u001b[0;34m,\u001b[0m \u001b[0mhue\u001b[0m\u001b[0;34m)\u001b[0m\u001b[0;34m\u001b[0m\u001b[0;34m\u001b[0m\u001b[0m\n",
            "\u001b[0;32m/usr/local/lib/python3.7/dist-packages/pyspark/sql/dataframe.py\u001b[0m in \u001b[0;36m__getattr__\u001b[0;34m(self, name)\u001b[0m\n\u001b[1;32m   1658\u001b[0m         \u001b[0;32mif\u001b[0m \u001b[0mname\u001b[0m \u001b[0;32mnot\u001b[0m \u001b[0;32min\u001b[0m \u001b[0mself\u001b[0m\u001b[0;34m.\u001b[0m\u001b[0mcolumns\u001b[0m\u001b[0;34m:\u001b[0m\u001b[0;34m\u001b[0m\u001b[0;34m\u001b[0m\u001b[0m\n\u001b[1;32m   1659\u001b[0m             raise AttributeError(\n\u001b[0;32m-> 1660\u001b[0;31m                 \"'%s' object has no attribute '%s'\" % (self.__class__.__name__, name))\n\u001b[0m\u001b[1;32m   1661\u001b[0m         \u001b[0mjc\u001b[0m \u001b[0;34m=\u001b[0m \u001b[0mself\u001b[0m\u001b[0;34m.\u001b[0m\u001b[0m_jdf\u001b[0m\u001b[0;34m.\u001b[0m\u001b[0mapply\u001b[0m\u001b[0;34m(\u001b[0m\u001b[0mname\u001b[0m\u001b[0;34m)\u001b[0m\u001b[0;34m\u001b[0m\u001b[0;34m\u001b[0m\u001b[0m\n\u001b[1;32m   1662\u001b[0m         \u001b[0;32mreturn\u001b[0m \u001b[0mColumn\u001b[0m\u001b[0;34m(\u001b[0m\u001b[0mjc\u001b[0m\u001b[0;34m)\u001b[0m\u001b[0;34m\u001b[0m\u001b[0;34m\u001b[0m\u001b[0m\n",
            "\u001b[0;31mAttributeError\u001b[0m: 'DataFrame' object has no attribute 'get'"
          ]
        }
      ]
    }
  ]
}